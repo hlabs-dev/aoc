{
 "cells": [
  {
   "cell_type": "code",
   "execution_count": 7,
   "metadata": {},
   "outputs": [
    {
     "name": "stdout",
     "output_type": "stream",
     "text": [
      "Part1: 54388 Part2: 53515\n"
     ]
    }
   ],
   "source": [
    "import aocd\n",
    "data = aocd.get_data(day=1, year=2023)\n",
    "T = data.split()\n",
    "\n",
    "trans = {'one':'o1e', 'two':'t2o', 'three':'3e', 'four':'4',\n",
    "         'five':'5e', 'six':'6', 'seven':'7n', 'eight':'e8t',\n",
    "         'nine':'n9e'}\n",
    "\n",
    "def tr(x):\n",
    "    for s in trans: x = x.replace(s, trans[s])\n",
    "    return x\n",
    "\n",
    "def cal(x):\n",
    "    l = [int(c) for c in x if c.isdigit()]\n",
    "    return 10*l[0]+l[-1]\n",
    "\n",
    "print(\"Part1:\", sum(map(cal, T)), \"Part2:\",sum(map(cal, map(tr,T))))"
   ]
  },
  {
   "cell_type": "code",
   "execution_count": 23,
   "metadata": {},
   "outputs": [
    {
     "name": "stdout",
     "output_type": "stream",
     "text": [
      "2795 75561\n"
     ]
    }
   ],
   "source": [
    "import aocd\n",
    "from collections import defaultdict\n",
    "data = aocd.get_data(day=2, year=2023)\n",
    "\n",
    "part1 = part2 = 0\n",
    "\n",
    "for i, g in enumerate(data.split(\"\\n\")):\n",
    "    _,l = g.split(\": \")\n",
    "    p1 = i+1\n",
    "    maxes = defaultdict(int)\n",
    "    for u in l.split(\"; \"):\n",
    "        for t in u.split(\", \"):\n",
    "            n, c = t.split(\" \")\n",
    "            n = int(n)\n",
    "            if not((c == \"red\" and n <= 12) \n",
    "                or (c == \"green\" and n <= 13) \n",
    "                or (c == \"blue\" and n <= 14)): p1 = 0\n",
    "            maxes[c] = max(maxes[c], n)\n",
    "    part1 += p1\n",
    "    p2 = 1\n",
    "    for k in maxes: p2 *= maxes[k]\n",
    "    part2 += p2\n",
    "print(part1,part2)"
   ]
  },
  {
   "cell_type": "code",
   "execution_count": 54,
   "metadata": {},
   "outputs": [
    {
     "name": "stdout",
     "output_type": "stream",
     "text": [
      "part1: 535351 part2: 87287096\n"
     ]
    }
   ],
   "source": [
    "import aocd\n",
    "data = aocd.get_data(day=3, year=2023)\n",
    "\n",
    "mp = defaultdict(str)\n",
    "T = data.split('\\n')\n",
    "n = len(T)\n",
    "m = len(T[0])\n",
    "\n",
    "for i,l in enumerate(T):\n",
    "    for j,c in enumerate(l):\n",
    "        if c != '.': \n",
    "            mp[(i,j)] = c\n",
    "\n",
    "part1 = part2 = 0\n",
    "gears = defaultdict(list)\n",
    "tmp, ispart, cgear = 0, False, set()\n",
    "\n",
    "for i in range(n):\n",
    "    for j in range(m):\n",
    "        if mp[(i,j)].isdigit():\n",
    "            tmp = tmp*10+int(mp[(i,j)])\n",
    "            for k in range(-1,2):\n",
    "                for l in range(-1,2):\n",
    "                    if mp[(i+k,j+l)] != '' and not(mp[(i+k,j+l)].isdigit()):\n",
    "                        ispart = True\n",
    "                    if mp[(i+k,j+l)] == '*': cgear.add((i+k,j+l))           \n",
    "        else:\n",
    "            if ispart:\n",
    "                part1 += tmp\n",
    "                for g in cgear: gears[g].append(tmp)\n",
    "            tmp, ispart, cgear = 0, False, set()\n",
    "    if ispart: \n",
    "        part1 += tmp\n",
    "        for g in cgear: gears[g].append(tmp)\n",
    "    tmp, ispart, cgear = 0, False, set()\n",
    "\n",
    "for g in gears:\n",
    "    if len(gears[g]) == 2:\n",
    "        part2 += gears[g][0]*gears[g][1]\n",
    "print(\"part1:\",part1,\"part2:\",part2)"
   ]
  },
  {
   "cell_type": "code",
   "execution_count": 32,
   "metadata": {},
   "outputs": [
    {
     "name": "stdout",
     "output_type": "stream",
     "text": [
      "part1: 18653 part2: 5921508\n"
     ]
    }
   ],
   "source": [
    "import aocd\n",
    "data = aocd.get_data(day=4, year=2023).splitlines()\n",
    "\n",
    "part1, part2, n, cards = 0, 0, len(data), [1]*len(data)\n",
    "\n",
    "for i, row in enumerate(data):\n",
    "    win, hand = row.split(':')[1].split(\"|\")\n",
    "    match = len(set(win.split()).intersection(hand.split()))\n",
    "    if match >= 1: part1 += 2**(match-1)\n",
    "    for j in range(i+1, min(i+1+match, n)): cards[j] += cards[i]\n",
    "    part2 += cards[i]\n",
    "\n",
    "print(\"part1:\", part1, \"part2:\", part2)"
   ]
  },
  {
   "cell_type": "code",
   "execution_count": 46,
   "metadata": {},
   "outputs": [
    {
     "name": "stdout",
     "output_type": "stream",
     "text": [
      "part1: 199602917 part2: 2254686\n"
     ]
    }
   ],
   "source": [
    "import aocd\n",
    "data = aocd.get_data(day=5, year=2023).split(\"\\n\\n\")\n",
    "\n",
    "seeds = list(map(int,data[0].split()[1:]))\n",
    "part1 = [(seed,seed+1) for seed in seeds]\n",
    "part2 = [(seeds[2*i],seeds[2*i]+seeds[2*i+1])\n",
    "         for i in range(len(seeds)//2)]\n",
    "\n",
    "def desc2trans(desc): return [ (src,src+length,dest-src)\n",
    "           for line in desc.split('\\n')[1:]\n",
    "           for dest,src,length in [map(int,line.split())]]\n",
    "\n",
    "def step(s2,transitions):\n",
    "    ret = []\n",
    "    for sta,sto in s2:\n",
    "        for start, stop, delta in transitions:\n",
    "            if start <= sta < stop:\n",
    "                ret.append((sta+delta,min(sto,stop)+delta))\n",
    "                sta, sto = min(sto,stop), sto\n",
    "        if sta<sto: ret.append((sta,sto))\n",
    "    return ret\n",
    "\n",
    "for desc in data[1:]:\n",
    "    transitions = sorted(desc2trans(desc))\n",
    "    part1 = step(part1,transitions)\n",
    "    part2 = step(part2,transitions)\n",
    "\n",
    "print(\"part1:\",min(part1)[0],\"part2:\",min(part2)[0])"
   ]
  },
  {
   "cell_type": "code",
   "execution_count": 108,
   "metadata": {},
   "outputs": [
    {
     "name": "stdout",
     "output_type": "stream",
     "text": [
      "Root calculation\n",
      "part1: 2756160 part2: 34788142\n",
      "--- 0.0010051727294921875 seconds ---\n",
      "Brute Force\n",
      "part1: 2756160 part2: 34788142\n",
      "--- 72.09413647651672 seconds ---\n"
     ]
    }
   ],
   "source": [
    "import aocd, math, time\n",
    "\n",
    "data = aocd.get_data(day=6, year=2023).split('\\n')\n",
    "races = list(zip(*map(lambda line: list(map(int,line.split()[1:])), data)))\n",
    "t,d = map(lambda line: int(line.split(\":\")[1].replace(\" \",\"\")), data)\n",
    "\n",
    "def win(t,d): return(t-1-int((t-math.sqrt(t*t -4*d))/2)*2)\n",
    "\n",
    "def win_bf(t,d): return sum(1 for ti in range(t) if ti*(t-ti)>d )\n",
    "\n",
    "print(\"Root calculation\")\n",
    "start_time = time.time()\n",
    "print(\"part1:\", math.prod(win(t,d) for t,d in races), \"part2:\", win(t,d))\n",
    "print(\"--- %s seconds ---\" % ((time.time() - start_time)))\n",
    "\n",
    "print(\"Brute Force\")\n",
    "start_time = time.time()\n",
    "print(\"part1:\", math.prod(win_bf(t,d) for t,d in races), \"part2:\", win_bf(t,d))\n",
    "print(\"--- %s seconds ---\" % ((time.time() - start_time)))\n"
   ]
  },
  {
   "cell_type": "code",
   "execution_count": 44,
   "metadata": {},
   "outputs": [
    {
     "name": "stdout",
     "output_type": "stream",
     "text": [
      "Part1: 251058093\n",
      "Part2: 249781879\n"
     ]
    }
   ],
   "source": [
    "import aocd\n",
    "from collections import Counter\n",
    "\n",
    "data = aocd.get_data(day=7, year=2023).split('\\n')\n",
    "\n",
    "def parse(s, part):\n",
    "    hand, bid = s.split()\n",
    "    bid,cnt = int(bid), Counter(hand)\n",
    "    cards = ['23456789TJQKA', 'J23456789TQKA']\n",
    "    \n",
    "    if part == 2: js, cnt['J'] = cnt['J'], 0\n",
    "    else: js = 0\n",
    "\n",
    "    v = list(sorted(cnt.values(), reverse=True))\n",
    "    v[0] += js\n",
    "    return (v,tuple(map(cards[part-1].index,hand)),bid)\n",
    "\n",
    "for part in [1,2]:\n",
    "    T = sorted(map(lambda l:parse(l,part),data))\n",
    "    res = sum( i*h[2] for i,h in enumerate(T[::],start=1) )\n",
    "    print(\"Part\"+str(part)+\":\",res)"
   ]
  }
 ],
 "metadata": {
  "kernelspec": {
   "display_name": "Python 3 (ipykernel)",
   "language": "python",
   "name": "python3"
  },
  "language_info": {
   "codemirror_mode": {
    "name": "ipython",
    "version": 3
   },
   "file_extension": ".py",
   "mimetype": "text/x-python",
   "name": "python",
   "nbconvert_exporter": "python",
   "pygments_lexer": "ipython3",
   "version": "3.11.5"
  }
 },
 "nbformat": 4,
 "nbformat_minor": 5
}
