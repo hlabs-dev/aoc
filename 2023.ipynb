{
 "cells": [
  {
   "cell_type": "code",
   "execution_count": 109,
   "metadata": {},
   "outputs": [
    {
     "name": "stdout",
     "output_type": "stream",
     "text": [
      "Part1: 54388 Part2: 53515\n"
     ]
    }
   ],
   "source": [
    "import aocd\n",
    "data = aocd.get_data(day=1, year=2023)\n",
    "T = data.split()\n",
    "\n",
    "trans = {'one':'o1e', 'two':'t2o', 'three':'3e', 'four':'4',\n",
    "         'five':'5e', 'six':'6', 'seven':'7n', 'eight':'e8t',\n",
    "         'nine':'n9e'}\n",
    "\n",
    "def tr(x):\n",
    "    for s in trans: x = x.replace(s, trans[s])\n",
    "    return x\n",
    "\n",
    "def cal(x):\n",
    "    l = [int(c) for c in x if c.isdigit()]\n",
    "    return 10*l[0]+l[-1]\n",
    "\n",
    "print(\"Part1:\", sum(map(cal, T)), \"Part2:\",sum(map(cal, map(tr,T))))"
   ]
  },
  {
   "cell_type": "code",
   "execution_count": 110,
   "metadata": {},
   "outputs": [
    {
     "name": "stdout",
     "output_type": "stream",
     "text": [
      "2795 75561\n"
     ]
    }
   ],
   "source": [
    "import aocd\n",
    "from collections import defaultdict\n",
    "data = aocd.get_data(day=2, year=2023)\n",
    "\n",
    "part1 = part2 = 0\n",
    "\n",
    "for i, g in enumerate(data.split(\"\\n\")):\n",
    "    _,l = g.split(\": \")\n",
    "    p1 = i+1\n",
    "    maxes = defaultdict(int)\n",
    "    for u in l.split(\"; \"):\n",
    "        for t in u.split(\", \"):\n",
    "            n, c = t.split(\" \")\n",
    "            n = int(n)\n",
    "            if not((c == \"red\" and n <= 12) \n",
    "                or (c == \"green\" and n <= 13) \n",
    "                or (c == \"blue\" and n <= 14)): p1 = 0\n",
    "            maxes[c] = max(maxes[c], n)\n",
    "    part1 += p1\n",
    "    p2 = 1\n",
    "    for k in maxes: p2 *= maxes[k]\n",
    "    part2 += p2\n",
    "print(part1,part2)"
   ]
  },
  {
   "cell_type": "code",
   "execution_count": 111,
   "metadata": {},
   "outputs": [
    {
     "name": "stdout",
     "output_type": "stream",
     "text": [
      "part1: 535351 part2: 87287096\n"
     ]
    }
   ],
   "source": [
    "import aocd\n",
    "data = aocd.get_data(day=3, year=2023)\n",
    "\n",
    "mp = defaultdict(str)\n",
    "T = data.split('\\n')\n",
    "n = len(T)\n",
    "m = len(T[0])\n",
    "\n",
    "for i,l in enumerate(T):\n",
    "    for j,c in enumerate(l):\n",
    "        if c != '.': \n",
    "            mp[(i,j)] = c\n",
    "\n",
    "part1 = part2 = 0\n",
    "gears = defaultdict(list)\n",
    "tmp, ispart, cgear = 0, False, set()\n",
    "\n",
    "for i in range(n):\n",
    "    for j in range(m):\n",
    "        if mp[(i,j)].isdigit():\n",
    "            tmp = tmp*10+int(mp[(i,j)])\n",
    "            for k in range(-1,2):\n",
    "                for l in range(-1,2):\n",
    "                    if mp[(i+k,j+l)] != '' and not(mp[(i+k,j+l)].isdigit()):\n",
    "                        ispart = True\n",
    "                    if mp[(i+k,j+l)] == '*': cgear.add((i+k,j+l))           \n",
    "        else:\n",
    "            if ispart:\n",
    "                part1 += tmp\n",
    "                for g in cgear: gears[g].append(tmp)\n",
    "            tmp, ispart, cgear = 0, False, set()\n",
    "    if ispart: \n",
    "        part1 += tmp\n",
    "        for g in cgear: gears[g].append(tmp)\n",
    "    tmp, ispart, cgear = 0, False, set()\n",
    "\n",
    "for g in gears:\n",
    "    if len(gears[g]) == 2:\n",
    "        part2 += gears[g][0]*gears[g][1]\n",
    "print(\"part1:\",part1,\"part2:\",part2)"
   ]
  },
  {
   "cell_type": "code",
   "execution_count": 112,
   "metadata": {},
   "outputs": [
    {
     "name": "stdout",
     "output_type": "stream",
     "text": [
      "part1: 18653 part2: 5921508\n"
     ]
    }
   ],
   "source": [
    "import aocd\n",
    "data = aocd.get_data(day=4, year=2023).splitlines()\n",
    "\n",
    "part1, part2, n, cards = 0, 0, len(data), [1]*len(data)\n",
    "\n",
    "for i, row in enumerate(data):\n",
    "    win, hand = row.split(':')[1].split(\"|\")\n",
    "    match = len(set(win.split()).intersection(hand.split()))\n",
    "    if match >= 1: part1 += 2**(match-1)\n",
    "    for j in range(i+1, min(i+1+match, n)): cards[j] += cards[i]\n",
    "    part2 += cards[i]\n",
    "\n",
    "print(\"part1:\", part1, \"part2:\", part2)"
   ]
  },
  {
   "cell_type": "code",
   "execution_count": 113,
   "metadata": {},
   "outputs": [
    {
     "name": "stdout",
     "output_type": "stream",
     "text": [
      "part1: 199602917 part2: 2254686\n"
     ]
    }
   ],
   "source": [
    "import aocd\n",
    "data = aocd.get_data(day=5, year=2023).split(\"\\n\\n\")\n",
    "\n",
    "seeds = list(map(int,data[0].split()[1:]))\n",
    "part1 = [(seed,seed+1) for seed in seeds]\n",
    "part2 = [(seeds[2*i],seeds[2*i]+seeds[2*i+1])\n",
    "         for i in range(len(seeds)//2)]\n",
    "\n",
    "def desc2trans(desc): return [ (src,src+length,dest-src)\n",
    "           for line in desc.split('\\n')[1:]\n",
    "           for dest,src,length in [map(int,line.split())]]\n",
    "\n",
    "def step(s2,transitions):\n",
    "    ret = []\n",
    "    for sta,sto in s2:\n",
    "        for start, stop, delta in transitions:\n",
    "            if start <= sta < stop:\n",
    "                ret.append((sta+delta,min(sto,stop)+delta))\n",
    "                sta, sto = min(sto,stop), sto\n",
    "        if sta<sto: ret.append((sta,sto))\n",
    "    return ret\n",
    "\n",
    "for desc in data[1:]:\n",
    "    transitions = sorted(desc2trans(desc))\n",
    "    part1 = step(part1,transitions)\n",
    "    part2 = step(part2,transitions)\n",
    "\n",
    "print(\"part1:\",min(part1)[0],\"part2:\",min(part2)[0])"
   ]
  },
  {
   "cell_type": "code",
   "execution_count": 114,
   "metadata": {},
   "outputs": [
    {
     "name": "stdout",
     "output_type": "stream",
     "text": [
      "Root calculation\n",
      "part1: 2756160 part2: 34788142\n",
      "--- 0.0 seconds ---\n",
      "Brute Force\n",
      "part1: 2756160 part2: 34788142\n",
      "--- 3.155764102935791 seconds ---\n"
     ]
    }
   ],
   "source": [
    "import aocd, math, time\n",
    "\n",
    "data = aocd.get_data(day=6, year=2023).split('\\n')\n",
    "races = list(zip(*map(lambda line: list(map(int,line.split()[1:])), data)))\n",
    "t,d = map(lambda line: int(line.split(\":\")[1].replace(\" \",\"\")), data)\n",
    "\n",
    "def win(t,d): return(t-1-int((t-math.sqrt(t*t -4*d))/2)*2)\n",
    "\n",
    "def win_bf(t,d): return sum(1 for ti in range(t) if ti*(t-ti)>d )\n",
    "\n",
    "print(\"Root calculation\")\n",
    "start_time = time.time()\n",
    "print(\"part1:\", math.prod(win(t,d) for t,d in races), \"part2:\", win(t,d))\n",
    "print(\"--- %s seconds ---\" % ((time.time() - start_time)))\n",
    "\n",
    "print(\"Brute Force\")\n",
    "start_time = time.time()\n",
    "print(\"part1:\", math.prod(win_bf(t,d) for t,d in races), \"part2:\", win_bf(t,d))\n",
    "print(\"--- %s seconds ---\" % ((time.time() - start_time)))\n"
   ]
  },
  {
   "cell_type": "code",
   "execution_count": 115,
   "metadata": {},
   "outputs": [
    {
     "name": "stdout",
     "output_type": "stream",
     "text": [
      "Part1: 251058093\n",
      "Part2: 249781879\n"
     ]
    }
   ],
   "source": [
    "import aocd\n",
    "from collections import Counter\n",
    "\n",
    "data = aocd.get_data(day=7, year=2023).split('\\n')\n",
    "\n",
    "def parse(s, part):\n",
    "    hand, bid = s.split()\n",
    "    bid,cnt = int(bid), Counter(hand)\n",
    "    cards = ['23456789TJQKA', 'J23456789TQKA']\n",
    "    \n",
    "    if part == 2: js, cnt['J'] = cnt['J'], 0\n",
    "    else: js = 0\n",
    "\n",
    "    v = list(sorted(cnt.values(), reverse=True))\n",
    "    v[0] += js\n",
    "    return (v,tuple(map(cards[part-1].index,hand)),bid)\n",
    "\n",
    "for part in [1,2]:\n",
    "    T = sorted(map(lambda l:parse(l,part),data))\n",
    "    res = sum( i*bid for i,(_,_,bid) in enumerate(T,start=1) )\n",
    "    print(\"Part\"+str(part)+\":\",res)"
   ]
  },
  {
   "cell_type": "code",
   "execution_count": 116,
   "metadata": {},
   "outputs": [
    {
     "name": "stdout",
     "output_type": "stream",
     "text": [
      "Part1: 17621 Part2: 20685524831999\n"
     ]
    }
   ],
   "source": [
    "import aocd,math,itertools\n",
    "\n",
    "path, _, *data = aocd.get_data(day=8, year=2023).split('\\n')\n",
    "graph = {l[:3]:{'L':l[7:10],'R':l[12:15]} for l in data}\n",
    "\n",
    "def solve(node,part):\n",
    "    for c in itertools.count():\n",
    "        node = graph[node][path[c % len(path)]]\n",
    "        if node == 'ZZZ' or (part == 2 and node[-1] == 'Z'):\n",
    "            return c+1\n",
    "\n",
    "nodes = [ k for k in graph if k[-1] == 'A']\n",
    "\n",
    "print(\"Part1:\", solve(\"AAA\",1), \"Part2:\", math.lcm(*(solve(node, 2) for node in nodes)))"
   ]
  },
  {
   "cell_type": "code",
   "execution_count": 117,
   "metadata": {},
   "outputs": [
    {
     "name": "stdout",
     "output_type": "stream",
     "text": [
      "Part1: 17621 Part2 20685524831999\n"
     ]
    }
   ],
   "source": [
    "import aocd,math,itertools\n",
    "path, _, *data = aocd.get_data(day=8, year=2023).split('\\n')\n",
    "graph = {l[:3]:(l[7:10],l[12:15]) for l in data}\n",
    "\n",
    "def gdepth(nodes):\n",
    "    for i in itertools.count(1):\n",
    "        nodes = { dest for node in nodes for dest in graph[node] }\n",
    "        if any(node[-1]=='Z' for node in nodes): return i\n",
    "\n",
    "cycles = {node:gdepth({node})*len(path) for node in graph if node[-1] == 'A'}\n",
    "\n",
    "print('Part1:', cycles['AAA'], 'Part2', math.lcm(*cycles.values()))"
   ]
  },
  {
   "cell_type": "code",
   "execution_count": 118,
   "metadata": {},
   "outputs": [
    {
     "name": "stdout",
     "output_type": "stream",
     "text": [
      "Part1: 1684566095 Part2: 1136\n"
     ]
    }
   ],
   "source": [
    "import aocd\n",
    "\n",
    "data = aocd.get_data(day=9, year=2023).split('\\n')\n",
    "data = list(map(lambda x: list(map(int,x.split())),data))\n",
    "\n",
    "def d(l): return [b-a for a,b in zip(l,l[1:])]\n",
    "def solve(l): return l[0] - solve(d(l)) if any(l) else 0\n",
    "\n",
    "print(\"Part1:\", sum(solve(l[::-1]) for l in data),\n",
    "      \"Part2:\", sum(solve(l) for l in data))"
   ]
  },
  {
   "cell_type": "code",
   "execution_count": 119,
   "metadata": {},
   "outputs": [
    {
     "name": "stdout",
     "output_type": "stream",
     "text": [
      "Part1: 1684566095 Part2: 1136\n"
     ]
    }
   ],
   "source": [
    "import aocd\n",
    "from more_itertools import dotproduct\n",
    "\n",
    "data = aocd.get_data(day=9, year=2023).split('\\n')\n",
    "data = list(map(lambda x: list(map(int,x.split())),data))\n",
    "n=len(data[0])\n",
    "\n",
    "lg_coef = [n]\n",
    "for i in range(2,n+1):\n",
    "      lg_coef.append(-lg_coef[-1]*(n-i+1)//i)\n",
    "\n",
    "print(\"Part1:\", sum(dotproduct(l[::-1],lg_coef) for l in data),\n",
    "      \"Part2:\", sum(dotproduct(l,lg_coef) for l in data))"
   ]
  },
  {
   "cell_type": "code",
   "execution_count": 120,
   "metadata": {},
   "outputs": [],
   "source": [
    "from itertools import product\n",
    "\n",
    "data = '''7-F7-\n",
    ".FJ|7\n",
    "SJLL7\n",
    "|F--J\n",
    "LJ.LJ'''.split('\\n')\n",
    "n,m = len(data), len(data[0])\n",
    "\n",
    "dirs = {(1,0):'E', (-1,0):'W',(0,1):'S',(0,-1):'N'}\n",
    "maps = {'-':{(1,0):(1,0), (-1,0):(-1,0)},\n",
    "        '|':{(0,1):(0,1), (0,-1):(0,-1)},\n",
    "        'L':{(0,1):(1,0), (-1,0):(0,-1)},\n",
    "        'J':{(0,1):(-1,0), (1,0):(0,-1)},\n",
    "        '7':{(1,0):(0,1), (0,-1):(-1,0)},\n",
    "        'F':{(0,-1):(1,0), (-1,0):(0,1)},\n",
    "        '.':{}}\n",
    "\n",
    "S = next((i,j) for i,j in product(range(m),range(n)) if data[i][j] == 'S')\n",
    "\n",
    "def tadd(i,j,k,l): return (i+k,j+l)\n",
    "def isok(i,j): return (0<=i<m and 0<=j<n)\n",
    "\n",
    "for di in dirs:\n",
    "    l = 1\n",
    "    pos = tadd(*S,*di)\n",
    "    while isok(*pos) and pos != S and pos != '.' and di in maps[data[pos[0]][pos[1]]]:\n",
    "        di = maps[data[pos[0]][pos[1]]][di]\n",
    "        pos = tadd(*pos,*di)\n",
    "        l+=1\n",
    "    if pos == S: print(l)\n",
    "\n"
   ]
  },
  {
   "cell_type": "code",
   "execution_count": 121,
   "metadata": {},
   "outputs": [
    {
     "name": "stdout",
     "output_type": "stream",
     "text": [
      "Part1: 17621 Part2: 20685524831999\n"
     ]
    }
   ],
   "source": [
    "import aocd,math,itertools\n",
    "\n",
    "path, _, *data = aocd.get_data(day=8, year=2023).split('\\n')\n",
    "graph = {l[:3]:{'L':l[7:10],'R':l[12:15]} for l in data}\n",
    "\n",
    "def solve(node,part):\n",
    "    for c in itertools.count():\n",
    "        node = graph[node][path[c % len(path)]]\n",
    "        if node == 'ZZZ' or (part == 2 and node[-1] == 'Z'):\n",
    "            return c+1\n",
    "\n",
    "nodes = [ k for k in graph if k[-1] == 'A']\n",
    "\n",
    "print(\"Part1:\", solve(\"AAA\",1), \"Part2:\", math.lcm(*(solve(node, 2) for node in nodes)))"
   ]
  },
  {
   "cell_type": "code",
   "execution_count": 122,
   "id": "9a5afc93",
   "metadata": {},
   "outputs": [
    {
     "name": "stdout",
     "output_type": "stream",
     "text": [
      "Part1: 1684566095 Part2: 1136\n"
     ]
    }
   ],
   "source": [
    "import aocd\n",
    "from more_itertools import dotproduct\n",
    "\n",
    "data = aocd.get_data(day=9, year=2023).split('\\n')\n",
    "data = list(map(lambda x: list(map(int,x.split())),data))\n",
    "\n",
    "lg = [len(data[0])]\n",
    "for i in range(2,lg[0]+1): lg.append(-lg[-1]*(lg[0]-i+1)//i)\n",
    "\n",
    "print(\"Part1:\", sum(dotproduct(l[::-1],lg) for l in data),\n",
    "      \"Part2:\", sum(dotproduct(l,lg) for l in data))"
   ]
  },
  {
   "cell_type": "code",
   "execution_count": 123,
   "metadata": {},
   "outputs": [
    {
     "name": "stdout",
     "output_type": "stream",
     "text": [
      "Part1: 6599 Part2: 477\n"
     ]
    }
   ],
   "source": [
    "import aocd\n",
    "from itertools import count\n",
    "\n",
    "data = aocd.get_data(day=10, year=2023).split('\\n')\n",
    "m,n = len(data), len(data[0])\n",
    "\n",
    "dirs = [(1,0),(-1,0),(0,1),(0,-1)]\n",
    "maps = {'-':{(1,0):(1,0), (-1,0):(-1,0)},\n",
    "        '|':{(0,1):(0,1), (0,-1):(0,-1)},\n",
    "        'L':{(0,1):(1,0), (-1,0):(0,-1)},\n",
    "        'J':{(0,1):(-1,0), (1,0):(0,-1)},\n",
    "        '7':{(1,0):(0,1), (0,-1):(-1,0)},\n",
    "        'F':{(0,-1):(1,0), (-1,0):(0,1)},\n",
    "        '.':{}}\n",
    "\n",
    "data = {(i,j):c for j,line in enumerate(data) for i,c in enumerate(line)}\n",
    "S = next(pos for pos in data if data[pos] == 'S')\n",
    "\n",
    "def tadd(a,b): return (a[0]+b[0],a[1]+b[1])\n",
    "\n",
    "for di in dirs:\n",
    "    path, di0, pos = {S}, di, S\n",
    "    for l in count():\n",
    "        pos = tadd(pos,di)\n",
    "        if pos in data and data[pos] in '-|LJ7F' and di in maps[data[pos]]:\n",
    "            di = maps[data[pos]][di]\n",
    "            path.add(pos)\n",
    "        else: break\n",
    "    if pos == S:\n",
    "        data[S] = next(l for l in maps if di in maps[l] and maps[l][di] == di0)\n",
    "        break\n",
    "\n",
    "part2, in_dir = 0, 0 # 0=out, 1=in left or below, 2=in right\n",
    "for i in range(m):\n",
    "    in_dir_map=[[1,2,1,0,0],[0,1,2,1,0],[0,0,0,0,1]]\n",
    "    for j in range(n):\n",
    "        if (i,j) not in path and in_dir: part2+= 1\n",
    "        elif (i,j) in path and data[(i,j)] in '-F7LJ':\n",
    "            in_dir = in_dir_map[in_dir]['-F7LJ'.index(data[(i,j)])]\n",
    "\n",
    "print(\"Part1:\", len(path)//2, \"Part2:\", part2)"
   ]
  },
  {
   "cell_type": "code",
   "execution_count": 124,
   "id": "35d6beaf",
   "metadata": {},
   "outputs": [
    {
     "name": "stdout",
     "output_type": "stream",
     "text": [
      "Part1: 6599 Part2: 477\n"
     ]
    }
   ],
   "source": [
    "import aocd\n",
    "from itertools import product\n",
    "\n",
    "def offset(pos,di): return (pos[0]+dirs[di][0],pos[1]+dirs[di][1])\n",
    "\n",
    "dirs = [(1,0),(0,1),(-1,0),(0,-1)]\n",
    "letters = \"-F7LJ|S.\"\n",
    "maps = [{0,2},{0,1},{1,2},{0,3},{2,3},{1,3},{0,1,2,3},{}]\n",
    "parity = [1,0.5,-0.5,-0.5,0.5,0]\n",
    "\n",
    "data = aocd.get_data(day=10, year=2023).split('\\n')\n",
    "m,n = len(data), len(data[0])\n",
    "s = letters.index('S')\n",
    "\n",
    "sparse = {(i,j):letters.index(data[j][i]) for i,j in product(range(n),range(m))}\n",
    "neighbours = {pos:{offset(pos, di) for di in maps[idx]} for pos, idx in sparse.items()}\n",
    "S = next(pos for pos in sparse if sparse[pos] == s)\n",
    "\n",
    "for next_s in neighbours[S]:\n",
    "    pos, path, next_pos = S, {S}, next_s\n",
    "    while next_pos in sparse and pos in neighbours[next_pos] and sparse[next_pos] < 6:\n",
    "        path.add(next_pos)\n",
    "        pos, next_pos = next_pos, next(p for p in neighbours[next_pos] if p!=pos)\n",
    "    if next_pos == S:\n",
    "        sparse[S] = next( k for k in range(1,len(maps))\n",
    "                       if {next_s, pos} == {offset(S,di) for di in maps[k]})\n",
    "        break\n",
    "\n",
    "part2 = s = 0\n",
    "for i,j in product(range(m),range(n)):\n",
    "    if (i,j) in path: s += parity[sparse[(i,j)]]\n",
    "    else: part2+= int(s)%2\n",
    "\n",
    "print(\"Part1:\", len(path)//2, \"Part2:\", part2)"
   ]
  },
  {
   "cell_type": "code",
   "execution_count": 125,
   "metadata": {},
   "outputs": [
    {
     "name": "stdout",
     "output_type": "stream",
     "text": [
      "Part1: 6599 Part2: 477\n"
     ]
    }
   ],
   "source": [
    "import aocd\n",
    "from itertools import product\n",
    "\n",
    "def offset(pos,di): return (pos[0]+dirs[di][0],pos[1]+dirs[di][1])\n",
    "\n",
    "dirs = [(1,0),(0,1),(-1,0),(0,-1)]\n",
    "letters = \"-F7LJ|S.\"\n",
    "maps = [{0,2},{0,1},{1,2},{0,3},{2,3},{1,3},{0,1,2,3},{}]\n",
    "parity = [1,0.5,-0.5,-0.5,0.5,0]\n",
    "\n",
    "data = aocd.get_data(day=10, year=2023).split('\\n')\n",
    "m,n = len(data), len(data[0])\n",
    "s = letters.index('S')\n",
    "\n",
    "sparse = {(i,j):letters.index(data[j][i]) \n",
    "          for i,j in product(range(n),range(m))}\n",
    "neighbours = {pos:{offset(pos, di) for di in maps[idx]} \n",
    "              for pos, idx in sparse.items()}\n",
    "S = next(pos for pos in sparse if sparse[pos] == s)\n",
    "\n",
    "for next_s in neighbours[S]:\n",
    "    pos, path, next_pos = S, {S}, next_s\n",
    "    while next_pos in sparse and pos in neighbours[next_pos] and sparse[next_pos] < s:\n",
    "        path.add(next_pos)\n",
    "        pos, next_pos = next_pos, next(p for p in neighbours[next_pos] if p!=pos)\n",
    "    if next_pos == S:\n",
    "        sparse[S] = next( k for k in range(1,len(maps))\n",
    "                       if {next_s, pos} == {offset(S,di) for di in maps[k]})\n",
    "        break\n",
    "\n",
    "part2 = 0\n",
    "for i,j in product(range(m),range(n)):\n",
    "    if (i,j) in path: s += parity[sparse[(i,j)]]\n",
    "    else: part2+= int(s)%2\n",
    "\n",
    "print(\"Part1:\", len(path)//2, \"Part2:\", part2)"
   ]
  },
  {
   "cell_type": "code",
   "execution_count": 126,
   "metadata": {},
   "outputs": [
    {
     "name": "stdout",
     "output_type": "stream",
     "text": [
      "Part1: 9734203 Part2: 568914596391\n"
     ]
    }
   ],
   "source": [
    "import aocd\n",
    "from itertools import combinations\n",
    "from bisect import bisect\n",
    "data = aocd.get_data(day=11, year=2023).split('\\n')\n",
    "n,m = len(data), len(data[0])\n",
    "hgaps = [ i for i in range(n) if all(data[i][j] == \".\" for j in range(m))]\n",
    "vgaps = [ j for j in range(m) if all(data[i][j] == \".\" for i in range(n))]\n",
    "\n",
    "sparse = [(i,j) for i in range(n) for j in range(m) if data[i][j] == '#']\n",
    "\n",
    "raw  = sum(abs(x1-x2)+abs(y1-y2) for (x1,y1),(x2,y2)  in combinations(sparse,2))\n",
    "gaps = sum(abs(bisect(hgaps,x1) - bisect(hgaps, x2)) +\n",
    "           abs(bisect(vgaps,y1) - bisect(vgaps, y2))\n",
    "           for (x1,y1),(x2,y2)  in combinations(sparse,2))\n",
    "\n",
    "print(\"Part1: %d Part2: %d\" % (raw+gaps, raw+gaps*999999))"
   ]
  },
  {
   "cell_type": "code",
   "execution_count": 127,
   "metadata": {},
   "outputs": [
    {
     "name": "stdout",
     "output_type": "stream",
     "text": [
      "Part1: 9734203 Part2: 568914596391\n"
     ]
    }
   ],
   "source": [
    "import aocd\n",
    "from itertools import combinations\n",
    "\n",
    "data = aocd.get_data(day=11, year=2023).split('\\n')\n",
    "n,m = len(data), len(data[0])\n",
    "\n",
    "lines = [ (i,c) for i in range(n) for c in [data[i].count('#')] if c>0 ]\n",
    "rows = [ (j,c) for j in range(m) \n",
    "        for c in [sum(data[i][j]==\"#\" for i in range(n))] if c>0 ]\n",
    "\n",
    "def rawgap(a,b):\n",
    "     raw, gap, cnt = b[0]-a[0], b[1][0]-a[1][0], b[1][1]*a[1][1]\n",
    "     return (raw*cnt, (gap-raw)*cnt)\n",
    "\n",
    "raw,gap = map(sum,zip(*(rawgap(a,b) for a,b in combinations(enumerate(lines),2)),\n",
    "              *(rawgap(a,b) for a,b in combinations(enumerate(rows),2))))\n",
    "\n",
    "print(\"Part1: %d Part2: %d\" % (raw+gap*2, raw+gap*10**6))"
   ]
  },
  {
   "cell_type": "code",
   "execution_count": 128,
   "metadata": {},
   "outputs": [
    {
     "name": "stdout",
     "output_type": "stream",
     "text": [
      "Part1: 9734203 Part2: 568914596391\n"
     ]
    }
   ],
   "source": [
    "import aocd\n",
    "\n",
    "data = aocd.get_data(day=11, year=2023).split('\\n')\n",
    "n,m = len(data), len(data[0])\n",
    "\n",
    "lines = [ (i,c) for i in range(n) for c in [data[i].count('#')] if c>0 ]\n",
    "rows = [ (j,c) for j in range(m) \n",
    "        for c in [sum(data[i][j]==\"#\" for i in range(n))] if c>0 ]\n",
    "\n",
    "def rawgap(li,raw=0,gap=0):\n",
    "    total = serie = li[0][1]\n",
    "    prev =  li[0][0]\n",
    "    prev_gaps = 0\n",
    "    for i,cnt in li[1:]:\n",
    "        raw += cnt*serie\n",
    "        prev_gaps += (i-prev-1)*total\n",
    "        gap += cnt*prev_gaps\n",
    "        total += cnt\n",
    "        serie += total\n",
    "        prev = i\n",
    "    return raw,gap\n",
    "\n",
    "raw,gap = rawgap(rows,*rawgap(lines))\n",
    "\n",
    "print(\"Part1: %d Part2: %d\" % (raw+gap*2, raw+gap*10**6))\n",
    "\n"
   ]
  },
  {
   "cell_type": "code",
   "execution_count": 129,
   "metadata": {},
   "outputs": [
    {
     "name": "stdout",
     "output_type": "stream",
     "text": [
      "Part1: 7307 Part2: 3415570893842\n"
     ]
    }
   ],
   "source": [
    "import aocd\n",
    "\n",
    "def parseline(line):\n",
    "    m,l = line.split()\n",
    "    return(m,tuple(map(int,l.split(','))))\n",
    "\n",
    "data = list(map(parseline, aocd.get_data(day=12, year=2023).split('\\n')))\n",
    "\n",
    "cache = {}\n",
    "def dp(S,L):\n",
    "    if (S,L) in cache: return(cache[(S,L)])\n",
    "    s,l = len(S), len(L)\n",
    "    if s < sum(L)+l : return 0\n",
    "    if l == 0: return all(c in '?.' for c in S)\n",
    "    ret = dp(S[1:], L) if S[0] in '.?' else 0\n",
    "    if all(c in '?#' for c in S[:L[0]]) and (s<L[0] or S[L[0]] in '.?'):\n",
    "        ret += dp(S[L[0]+1:], L[1:])\n",
    "    cache[(S,L)] = ret\n",
    "    return ret\n",
    "\n",
    "print(\"Part1: %d Part2: %d\" % (sum(dp(s+\".\",l) for s,l in data), \n",
    "                               sum(dp((s+'?')*5,l*5)  for s,l in data)))"
   ]
  },
  {
   "cell_type": "code",
   "execution_count": 130,
   "metadata": {},
   "outputs": [
    {
     "name": "stdout",
     "output_type": "stream",
     "text": [
      "Part1: 30518\n",
      "Part2: 36735\n"
     ]
    }
   ],
   "source": [
    "import aocd\n",
    "data = aocd.get_data(day=13, year=2023)\n",
    "patts = [line.split() for line in data.split(\"\\n\\n\")]\n",
    "\n",
    "def eval(pat, s, rot):\n",
    "    if rot: pat = tuple(zip(*pat))\n",
    "    return(next((i for i in range(1,len(pat))\n",
    "                if sum(t!=b for lt,lb in zip(pat[i-1::-1],pat[i:])\n",
    "                       for t,b in zip(lt,lb)) == s),0))\n",
    "for s in range(2):\n",
    "    print(\"Part%d: %d\"% ((s+1,sum(eval(pat, s, True)+\n",
    "                                  100*eval(pat, s, False)\n",
    "                                  for pat in patts))))\n",
    "\n"
   ]
  },
  {
   "cell_type": "code",
   "execution_count": 131,
   "metadata": {},
   "outputs": [
    {
     "name": "stdout",
     "output_type": "stream",
     "text": [
      "Part1: 107142\n",
      "Part2: 104815\n"
     ]
    }
   ],
   "source": [
    "import aocd\n",
    "\n",
    "data = aocd.get_data(day=14, year=2023).split(\"\\n\")\n",
    "n = len(data)\n",
    "m = len(data[0])\n",
    "sparse = {(i,j):data[i][j] for i in range(n) for j in range(m)}\n",
    "\n",
    "def load(hs,n,m): return sum(n-i for i,_ in hs)\n",
    "\n",
    "def rot(sparse,n,m): return {(j,n-i-1):sparse[(i,j)] \n",
    "                             for i,j in sparse},m,n\n",
    "\n",
    "def slide(sparse,n,m):\n",
    "    cur = [0]*m\n",
    "    for j in range(m):\n",
    "        for i in range(n):\n",
    "            if (i,j) in sparse:\n",
    "                if sparse[(i,j)] == 'O':\n",
    "                    del sparse[(i,j)]\n",
    "                    sparse[(cur[j],j)] = 'O'\n",
    "                    cur[j] += 1\n",
    "                elif sparse[(i,j)] == '#':\n",
    "                    cur[j] = i+1\n",
    "\n",
    "def fullrot(sparse, n, m):\n",
    "    for _ in range(4):\n",
    "        slide(sparse,n,m)\n",
    "        sparse,n,m = rot(sparse,n,m)\n",
    "    return sparse\n",
    "\n",
    "def hash(sparse): return tuple(sorted(k for k in sparse if sparse[k] == 'O'))\n",
    "\n",
    "slide(sparse,n,m)\n",
    "print(\"Part1:\", load(hash(sparse),n,m))\n",
    "\n",
    "cache = {hash(sparse):0}\n",
    "for c in range(1,10**9):\n",
    "    sparse = fullrot(sparse, n, m)\n",
    "    hs = hash(sparse)\n",
    "    if hs in cache:\n",
    "        start, length = cache[hs],c-cache[hs]\n",
    "        val = start+(1000000000-start)%length\n",
    "        print(\"Part2:\",load(next(k for k in cache if cache[k] == val),n,m))\n",
    "        break\n",
    "    cache[hs] = c"
   ]
  },
  {
   "cell_type": "code",
   "execution_count": 132,
   "metadata": {},
   "outputs": [
    {
     "name": "stdout",
     "output_type": "stream",
     "text": [
      "Part1 497373\n",
      "Part2 259356\n"
     ]
    }
   ],
   "source": [
    "import aocd\n",
    "from functools import reduce\n",
    "\n",
    "data = aocd.get_data(day=15, year=2023)\n",
    "def hiter(c,ch): return (c+ord(ch))*17%256\n",
    "def hash(s): return reduce(hiter,s,0)\n",
    "\n",
    "print(\"Part1\", sum(hash(s) for s in data.split(',')))\n",
    "\n",
    "boxes = [dict() for _ in range(256)]\n",
    "for s in data.split(','):\n",
    "    label = s.strip('-').split('=')\n",
    "    box = boxes[hash(label[0])]\n",
    "    if len(label) == 1: box.pop(label[0],0)\n",
    "    else: box[label[0]] = int(label[1])\n",
    "        \n",
    "print(\"Part2\", sum(i*j*f for i,b in enumerate(boxes, 1)\n",
    "                for j,f in enumerate(b.values(), 1)))"
   ]
  },
  {
   "cell_type": "code",
   "execution_count": 133,
   "metadata": {},
   "outputs": [
    {
     "name": "stdout",
     "output_type": "stream",
     "text": [
      "Part1: 7199 Part2: 7438\n"
     ]
    }
   ],
   "source": [
    "import aocd\n",
    "\n",
    "dirs = [(0,1),(-1,0),(0,-1),(1,0)]\n",
    "ndirs = {('/'):[[1],[0],[3],[2]], ('\\\\'):[[3],[2],[1],[0]],\n",
    "         ('-'):[[0],[0,2],[2],[0,2]],('|'):[[1,3],[1],[1,3],[3]],\n",
    "         ('.'):[[0],[1],[2],[3]]}\n",
    "def tadd(a,b): return (a[0]+b[0],a[1]+b[1])\n",
    "\n",
    "data = aocd.get_data(day=16, year=2023).split('\\n')\n",
    "n,m = len(data), len(data[0])\n",
    "sparse = { (i,j):data[i][j] for i in range(n) for j in range(m)}\n",
    "\n",
    "def dfs(pos,di):\n",
    "    energized = {pos}\n",
    "    beams = [(pos,ndir) for ndir in ndirs[sparse[pos]][di]]\n",
    "    visited = set(beams)\n",
    "    while len(beams):\n",
    "        pos,di = beams.pop()\n",
    "        npos = tadd(pos,dirs[di])\n",
    "        if npos in sparse:\n",
    "            if npos not in energized: energized.add(npos)\n",
    "            for ndir in ndirs[sparse[npos]][di]:\n",
    "                if (npos,ndir) not in visited:\n",
    "                    visited.add((npos,ndir))\n",
    "                    beams.append((npos,ndir))\n",
    "    return len(energized)\n",
    "\n",
    "print(\"Part1: %d Part2: %d\" % (dfs((0,0),0),\n",
    "      max(dfs((i,j),d) for d in range(4) \n",
    "          for i in (range(n) if d%2==0 else [0,n-1])\n",
    "          for j in (range(m) if d%2==1 else [0,m-1]))))\n"
   ]
  },
  {
   "cell_type": "code",
   "execution_count": 134,
   "id": "d4e4a26b",
   "metadata": {},
   "outputs": [
    {
     "name": "stdout",
     "output_type": "stream",
     "text": [
      "Part1: 847 Part2: 997\n"
     ]
    }
   ],
   "source": [
    "from heapq import heappush, heappop\n",
    "data = aocd.get_data(day=17, year=2023).split('\\n')\n",
    "sparse = {(i,j):int(c) for i,line in enumerate(data) for j,c in enumerate(line)}\n",
    "n,m = len(data), len(data[0])\n",
    "def tadd(a,b): return (a[0]+b[0],a[1]+b[1])\n",
    "dirs = [(1,0), (0,-1), (-1,0), (0,1)]\n",
    "\n",
    "def solve(mi,ma):\n",
    "    heap = [(0,(0,0),(0,0))]\n",
    "    visited = {((0,0),(0,0))}\n",
    "    while len(heap):\n",
    "        cost, pos, lsdir = heappop(heap)\n",
    "        for di in range(-1,2):\n",
    "            if di == 0:\n",
    "                if lsdir[1] == ma: continue\n",
    "                else: idx = lsdir[1]+1\n",
    "            else:\n",
    "                idx = 1\n",
    "                if 0< lsdir[1] < mi: continue\n",
    "            ndi = (lsdir[0]+di)%4\n",
    "            npos = tadd(pos, dirs[ndi])\n",
    "            if (npos in sparse) and ((npos,(ndi,idx)) not in visited):\n",
    "                ncost = cost + sparse[npos]\n",
    "                if npos == (n-1,m-1): return ncost\n",
    "                visited.add((npos,(ndi,idx)))\n",
    "                heappush(heap,(ncost,npos,(ndi,idx)))\n",
    "\n",
    "print(\"Part1: %d Part2: %d\" % (solve(0,3),solve(4,10)))"
   ]
  }
 ],
 "metadata": {
  "kernelspec": {
   "display_name": "Python 3 (ipykernel)",
   "language": "python",
   "name": "python3"
  },
  "language_info": {
   "codemirror_mode": {
    "name": "ipython",
    "version": 3
   },
   "file_extension": ".py",
   "mimetype": "text/x-python",
   "name": "python",
   "nbconvert_exporter": "python",
   "pygments_lexer": "ipython3",
   "version": "3.11.5"
  }
 },
 "nbformat": 4,
 "nbformat_minor": 5
}
