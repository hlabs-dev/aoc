{
 "cells": [
  {
   "cell_type": "code",
   "execution_count": 7,
   "metadata": {},
   "outputs": [
    {
     "name": "stdout",
     "output_type": "stream",
     "text": [
      "Part1: 54388 Part2: 53515\n"
     ]
    }
   ],
   "source": [
    "import aocd\n",
    "data = aocd.get_data(day=1, year=2023)\n",
    "T = data.split()\n",
    "\n",
    "trans = {'one':'o1e', 'two':'t2o', 'three':'3e', 'four':'4',\n",
    "         'five':'5e', 'six':'6', 'seven':'7n', 'eight':'e8t',\n",
    "         'nine':'n9e'}\n",
    "\n",
    "def tr(x):\n",
    "    for s in trans: x = x.replace(s, trans[s])\n",
    "    return x\n",
    "\n",
    "def cal(x):\n",
    "    l = [int(c) for c in x if c.isdigit()]\n",
    "    return 10*l[0]+l[-1]\n",
    "\n",
    "print(\"Part1:\", sum(map(cal, T)), \"Part2:\",sum(map(cal, map(tr,T))))"
   ]
  },
  {
   "cell_type": "code",
   "execution_count": 23,
   "metadata": {},
   "outputs": [
    {
     "name": "stdout",
     "output_type": "stream",
     "text": [
      "2795 75561\n"
     ]
    }
   ],
   "source": [
    "import aocd\n",
    "from collections import defaultdict\n",
    "data = aocd.get_data(day=2, year=2023)\n",
    "\n",
    "part1 = part2 = 0\n",
    "\n",
    "for i, g in enumerate(data.split(\"\\n\")):\n",
    "    _,l = g.split(\": \")\n",
    "    p1 = i+1\n",
    "    maxes = defaultdict(int)\n",
    "    for u in l.split(\"; \"):\n",
    "        for t in u.split(\", \"):\n",
    "            n, c = t.split(\" \")\n",
    "            n = int(n)\n",
    "            if not((c == \"red\" and n <= 12) \n",
    "                or (c == \"green\" and n <= 13) \n",
    "                or (c == \"blue\" and n <= 14)): p1 = 0\n",
    "            maxes[c] = max(maxes[c], n)\n",
    "    part1 += p1\n",
    "    p2 = 1\n",
    "    for k in maxes: p2 *= maxes[k]\n",
    "    part2 += p2\n",
    "print(part1,part2)"
   ]
  }
 ],
 "metadata": {
  "kernelspec": {
   "display_name": "Python 3 (ipykernel)",
   "language": "python",
   "name": "python3"
  },
  "language_info": {
   "codemirror_mode": {
    "name": "ipython",
    "version": 3
   },
   "file_extension": ".py",
   "mimetype": "text/x-python",
   "name": "python",
   "nbconvert_exporter": "python",
   "pygments_lexer": "ipython3",
   "version": "3.11.5"
  }
 },
 "nbformat": 4,
 "nbformat_minor": 5
}
