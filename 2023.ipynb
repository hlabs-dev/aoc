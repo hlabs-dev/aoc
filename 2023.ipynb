{
 "cells": [
  {
   "cell_type": "code",
   "execution_count": 57,
   "metadata": {},
   "outputs": [
    {
     "name": "stdout",
     "output_type": "stream",
     "text": [
      "Part1: 54388 Part2: 53515\n"
     ]
    }
   ],
   "source": [
    "import aocd\n",
    "data = aocd.get_data(day=1, year=2023)\n",
    "T = data.split()\n",
    "\n",
    "trans = {'one':'o1e', 'two':'t2o', 'three':'3e', 'four':'4',\n",
    "         'five':'5e', 'six':'6', 'seven':'7n', 'eight':'e8t',\n",
    "         'nine':'n9e'}\n",
    "\n",
    "def tr(x):\n",
    "    for s in trans: x = x.replace(s, trans[s])\n",
    "    return x\n",
    "\n",
    "def cal(x):\n",
    "    l = [int(c) for c in x if c.isdigit()]\n",
    "    return 10*l[0]+l[-1]\n",
    "\n",
    "print(\"Part1:\", sum(map(cal, T)), \"Part2:\",sum(map(cal, map(tr,T))))"
   ]
  },
  {
   "cell_type": "code",
   "execution_count": 106,
   "metadata": {},
   "outputs": [
    {
     "name": "stdout",
     "output_type": "stream",
     "text": [
      "2795 75561\n"
     ]
    }
   ],
   "source": [
    "import aocd\n",
    "from collections import defaultdict\n",
    "data = aocd.get_data(day=2, year=2023)\n",
    "\n",
    "part1 = part2 = 0\n",
    "\n",
    "for i, g in enumerate(data.split(\"\\n\")):\n",
    "    _,l = g.split(\": \")\n",
    "    p1 = i+1\n",
    "    maxes = defaultdict(int)\n",
    "    for u in l.split(\"; \"):\n",
    "        for t in u.split(\", \"):\n",
    "            n, c = t.split(\" \")\n",
    "            n = int(n)\n",
    "            if not((c == \"red\" and n <= 12) \n",
    "                or (c == \"green\" and n <= 13) \n",
    "                or (c == \"blue\" and n <= 14)): p1 = 0\n",
    "            maxes[c] = max(maxes[c], n)\n",
    "    part1 += p1\n",
    "    p2 = 1\n",
    "    for k in maxes: p2 *= maxes[k]\n",
    "    part2 += p2\n",
    "print(part1,part2)"
   ]
  },
  {
   "cell_type": "code",
   "execution_count": 107,
   "metadata": {},
   "outputs": [
    {
     "name": "stdout",
     "output_type": "stream",
     "text": [
      "part1: 535351 part2: 87287096\n"
     ]
    }
   ],
   "source": [
    "import aocd\n",
    "data = aocd.get_data(day=3, year=2023)\n",
    "\n",
    "mp = defaultdict(str)\n",
    "T = data.split('\\n')\n",
    "n = len(T)\n",
    "m = len(T[0])\n",
    "\n",
    "for i,l in enumerate(T):\n",
    "    for j,c in enumerate(l):\n",
    "        if c != '.': \n",
    "            mp[(i,j)] = c\n",
    "\n",
    "part1 = part2 = 0\n",
    "gears = defaultdict(list)\n",
    "tmp, ispart, cgear = 0, False, set()\n",
    "\n",
    "for i in range(n):\n",
    "    for j in range(m):\n",
    "        if mp[(i,j)].isdigit():\n",
    "            tmp = tmp*10+int(mp[(i,j)])\n",
    "            for k in range(-1,2):\n",
    "                for l in range(-1,2):\n",
    "                    if mp[(i+k,j+l)] != '' and not(mp[(i+k,j+l)].isdigit()):\n",
    "                        ispart = True\n",
    "                    if mp[(i+k,j+l)] == '*': cgear.add((i+k,j+l))           \n",
    "        else:\n",
    "            if ispart:\n",
    "                part1 += tmp\n",
    "                for g in cgear: gears[g].append(tmp)\n",
    "            tmp, ispart, cgear = 0, False, set()\n",
    "    if ispart: \n",
    "        part1 += tmp\n",
    "        for g in cgear: gears[g].append(tmp)\n",
    "    tmp, ispart, cgear = 0, False, set()\n",
    "\n",
    "for g in gears:\n",
    "    if len(gears[g]) == 2:\n",
    "        part2 += gears[g][0]*gears[g][1]\n",
    "print(\"part1:\",part1,\"part2:\",part2)"
   ]
  },
  {
   "cell_type": "code",
   "execution_count": 108,
   "metadata": {},
   "outputs": [
    {
     "name": "stdout",
     "output_type": "stream",
     "text": [
      "part1: 18653 part2: 5921508\n"
     ]
    }
   ],
   "source": [
    "import aocd\n",
    "data = aocd.get_data(day=4, year=2023).splitlines()\n",
    "\n",
    "part1, part2, n, cards = 0, 0, len(data), [1]*len(data)\n",
    "\n",
    "for i, row in enumerate(data):\n",
    "    win, hand = row.split(':')[1].split(\"|\")\n",
    "    match = len(set(win.split()).intersection(hand.split()))\n",
    "    if match >= 1: part1 += 2**(match-1)\n",
    "    for j in range(i+1, min(i+1+match, n)): cards[j] += cards[i]\n",
    "    part2 += cards[i]\n",
    "\n",
    "print(\"part1:\", part1, \"part2:\", part2)"
   ]
  },
  {
   "cell_type": "code",
   "execution_count": 109,
   "metadata": {},
   "outputs": [
    {
     "name": "stdout",
     "output_type": "stream",
     "text": [
      "part1: 199602917 part2: 2254686\n"
     ]
    }
   ],
   "source": [
    "import aocd\n",
    "data = aocd.get_data(day=5, year=2023).split(\"\\n\\n\")\n",
    "\n",
    "seeds = list(map(int,data[0].split()[1:]))\n",
    "part1 = [(seed,seed+1) for seed in seeds]\n",
    "part2 = [(seeds[2*i],seeds[2*i]+seeds[2*i+1])\n",
    "         for i in range(len(seeds)//2)]\n",
    "\n",
    "def desc2trans(desc): return [ (src,src+length,dest-src)\n",
    "           for line in desc.split('\\n')[1:]\n",
    "           for dest,src,length in [map(int,line.split())]]\n",
    "\n",
    "def step(s2,transitions):\n",
    "    ret = []\n",
    "    for sta,sto in s2:\n",
    "        for start, stop, delta in transitions:\n",
    "            if start <= sta < stop:\n",
    "                ret.append((sta+delta,min(sto,stop)+delta))\n",
    "                sta, sto = min(sto,stop), sto\n",
    "        if sta<sto: ret.append((sta,sto))\n",
    "    return ret\n",
    "\n",
    "for desc in data[1:]:\n",
    "    transitions = sorted(desc2trans(desc))\n",
    "    part1 = step(part1,transitions)\n",
    "    part2 = step(part2,transitions)\n",
    "\n",
    "print(\"part1:\",min(part1)[0],\"part2:\",min(part2)[0])"
   ]
  },
  {
   "cell_type": "code",
   "execution_count": 110,
   "metadata": {},
   "outputs": [
    {
     "name": "stdout",
     "output_type": "stream",
     "text": [
      "Root calculation\n",
      "part1: 2756160 part2: 34788142\n",
      "--- 0.0 seconds ---\n"
     ]
    }
   ],
   "source": [
    "import aocd, math, time\n",
    "\n",
    "data = aocd.get_data(day=6, year=2023).split('\\n')\n",
    "races = list(zip(*map(lambda line: list(map(int,line.split()[1:])), data)))\n",
    "t,d = map(lambda line: int(line.split(\":\")[1].replace(\" \",\"\")), data)\n",
    "\n",
    "def win(t,d): return(t-1-int((t-math.sqrt(t*t -4*d))/2)*2)\n",
    "\n",
    "def win_bf(t,d): return sum(1 for ti in range(t) if ti*(t-ti)>d )\n",
    "\n",
    "print(\"Root calculation\")\n",
    "start_time = time.time()\n",
    "print(\"part1:\", math.prod(win(t,d) for t,d in races), \"part2:\", win(t,d))\n",
    "print(\"--- %s seconds ---\" % ((time.time() - start_time)))\n"
   ]
  },
  {
   "cell_type": "code",
   "execution_count": 111,
   "metadata": {},
   "outputs": [
    {
     "name": "stdout",
     "output_type": "stream",
     "text": [
      "Part1: 251058093\n",
      "Part2: 249781879\n"
     ]
    }
   ],
   "source": [
    "import aocd\n",
    "from collections import Counter\n",
    "\n",
    "data = aocd.get_data(day=7, year=2023).split('\\n')\n",
    "\n",
    "def parse(s, part):\n",
    "    hand, bid = s.split()\n",
    "    bid,cnt = int(bid), Counter(hand)\n",
    "    cards = ['23456789TJQKA', 'J23456789TQKA']\n",
    "    \n",
    "    if part == 2: js, cnt['J'] = cnt['J'], 0\n",
    "    else: js = 0\n",
    "\n",
    "    v = list(sorted(cnt.values(), reverse=True))\n",
    "    v[0] += js\n",
    "    return (v,tuple(map(cards[part-1].index,hand)),bid)\n",
    "\n",
    "for part in [1,2]:\n",
    "    T = sorted(map(lambda l:parse(l,part),data))\n",
    "    res = sum( i*bid for i,(_,_,bid) in enumerate(T,start=1) )\n",
    "    print(\"Part\"+str(part)+\":\",res)"
   ]
  },
  {
   "cell_type": "code",
   "execution_count": 112,
   "metadata": {},
   "outputs": [
    {
     "name": "stdout",
     "output_type": "stream",
     "text": [
      "Part1: 17621 Part2 20685524831999\n"
     ]
    }
   ],
   "source": [
    "import aocd,math,itertools\n",
    "path, _, *data = aocd.get_data(day=8, year=2023).split('\\n')\n",
    "graph = {l[:3]:(l[7:10],l[12:15]) for l in data}\n",
    "\n",
    "def gdepth(nodes):\n",
    "    for i in itertools.count(1):\n",
    "        nodes = { dest for node in nodes for dest in graph[node] }\n",
    "        if any(node[-1]=='Z' for node in nodes): return i\n",
    "\n",
    "cycles = {node:gdepth({node})*len(path) for node in graph if node[-1] == 'A'}\n",
    "\n",
    "print('Part1:', cycles['AAA'], 'Part2', math.lcm(*cycles.values()))"
   ]
  },
  {
   "cell_type": "code",
   "execution_count": 113,
   "id": "9a5afc93",
   "metadata": {},
   "outputs": [
    {
     "name": "stdout",
     "output_type": "stream",
     "text": [
      "Part1: 1684566095 Part2: 1136\n"
     ]
    }
   ],
   "source": [
    "import aocd\n",
    "from more_itertools import dotproduct\n",
    "\n",
    "data = aocd.get_data(day=9, year=2023).split('\\n')\n",
    "data = list(map(lambda x: list(map(int,x.split())),data))\n",
    "\n",
    "lg = [len(data[0])]\n",
    "for i in range(2,lg[0]+1): lg.append(-lg[-1]*(lg[0]-i+1)//i)\n",
    "\n",
    "print(\"Part1:\", sum(dotproduct(l[::-1],lg) for l in data),\n",
    "      \"Part2:\", sum(dotproduct(l,lg) for l in data))"
   ]
  },
  {
   "cell_type": "code",
   "execution_count": 114,
   "id": "35d6beaf",
   "metadata": {},
   "outputs": [
    {
     "name": "stdout",
     "output_type": "stream",
     "text": [
      "Part1: 6599 Part2: 477\n"
     ]
    }
   ],
   "source": [
    "import aocd\n",
    "from itertools import product\n",
    "\n",
    "def offset(pos,di): return (pos[0]+dirs[di][0],pos[1]+dirs[di][1])\n",
    "\n",
    "dirs = [(1,0),(0,1),(-1,0),(0,-1)]\n",
    "letters = \"-F7LJ|S.\"\n",
    "maps = [{0,2},{0,1},{1,2},{0,3},{2,3},{1,3},{0,1,2,3},{}]\n",
    "parity = [1,0.5,-0.5,-0.5,0.5,0]\n",
    "\n",
    "data = aocd.get_data(day=10, year=2023).split('\\n')\n",
    "m,n = len(data), len(data[0])\n",
    "s = letters.index('S')\n",
    "\n",
    "sparse = {(i,j):letters.index(data[j][i]) for i,j in product(range(n),range(m))}\n",
    "neighbours = {pos:{offset(pos, di) for di in maps[idx]} for pos, idx in sparse.items()}\n",
    "S = next(pos for pos in sparse if sparse[pos] == s)\n",
    "\n",
    "for next_s in neighbours[S]:\n",
    "    pos, path, next_pos = S, {S}, next_s\n",
    "    while next_pos in sparse and pos in neighbours[next_pos] and sparse[next_pos] < 6:\n",
    "        path.add(next_pos)\n",
    "        pos, next_pos = next_pos, next(p for p in neighbours[next_pos] if p!=pos)\n",
    "    if next_pos == S:\n",
    "        sparse[S] = next( k for k in range(1,len(maps))\n",
    "                       if {next_s, pos} == {offset(S,di) for di in maps[k]})\n",
    "        break\n",
    "\n",
    "part2 = s = 0\n",
    "for i,j in product(range(m),range(n)):\n",
    "    if (i,j) in path: s += parity[sparse[(i,j)]]\n",
    "    else: part2+= int(s)%2\n",
    "\n",
    "print(\"Part1:\", len(path)//2, \"Part2:\", part2)"
   ]
  },
  {
   "cell_type": "code",
   "execution_count": 115,
   "metadata": {},
   "outputs": [
    {
     "name": "stdout",
     "output_type": "stream",
     "text": [
      "Part1: 9734203 Part2: 568914596391\n"
     ]
    }
   ],
   "source": [
    "import aocd\n",
    "\n",
    "data = aocd.get_data(day=11, year=2023).split('\\n')\n",
    "n,m = len(data), len(data[0])\n",
    "\n",
    "lines = [ (i,c) for i in range(n) for c in [data[i].count('#')] if c>0 ]\n",
    "rows = [ (j,c) for j in range(m) \n",
    "        for c in [sum(data[i][j]==\"#\" for i in range(n))] if c>0 ]\n",
    "\n",
    "def rawgap(li,raw=0,gap=0):\n",
    "    total = serie = li[0][1]\n",
    "    prev =  li[0][0]\n",
    "    prev_gaps = 0\n",
    "    for i,cnt in li[1:]:\n",
    "        raw += cnt*serie\n",
    "        prev_gaps += (i-prev-1)*total\n",
    "        gap += cnt*prev_gaps\n",
    "        total += cnt\n",
    "        serie += total\n",
    "        prev = i\n",
    "    return raw,gap\n",
    "\n",
    "raw,gap = rawgap(rows,*rawgap(lines))\n",
    "\n",
    "print(\"Part1: %d Part2: %d\" % (raw+gap*2, raw+gap*10**6))\n",
    "\n"
   ]
  },
  {
   "cell_type": "code",
   "execution_count": 116,
   "metadata": {},
   "outputs": [
    {
     "name": "stdout",
     "output_type": "stream",
     "text": [
      "Part1: 7307 Part2: 3415570893842\n"
     ]
    }
   ],
   "source": [
    "import aocd\n",
    "\n",
    "def parseline(line):\n",
    "    m,l = line.split()\n",
    "    return(m,tuple(map(int,l.split(','))))\n",
    "\n",
    "data = list(map(parseline, aocd.get_data(day=12, year=2023).split('\\n')))\n",
    "\n",
    "cache = {}\n",
    "def dp(S,L):\n",
    "    if (S,L) in cache: return(cache[(S,L)])\n",
    "    s,l = len(S), len(L)\n",
    "    if s < sum(L)+l : return 0\n",
    "    if l == 0: return all(c in '?.' for c in S)\n",
    "    ret = dp(S[1:], L) if S[0] in '.?' else 0\n",
    "    if all(c in '?#' for c in S[:L[0]]) and (s<L[0] or S[L[0]] in '.?'):\n",
    "        ret += dp(S[L[0]+1:], L[1:])\n",
    "    cache[(S,L)] = ret\n",
    "    return ret\n",
    "\n",
    "print(\"Part1: %d Part2: %d\" % (sum(dp(s+\".\",l) for s,l in data), \n",
    "                               sum(dp((s+'?')*5,l*5)  for s,l in data)))"
   ]
  },
  {
   "cell_type": "code",
   "execution_count": 117,
   "metadata": {},
   "outputs": [
    {
     "name": "stdout",
     "output_type": "stream",
     "text": [
      "Part1: 30518\n",
      "Part2: 36735\n"
     ]
    }
   ],
   "source": [
    "import aocd\n",
    "data = aocd.get_data(day=13, year=2023)\n",
    "patts = [line.split() for line in data.split(\"\\n\\n\")]\n",
    "\n",
    "def day13(pat, s, rot):\n",
    "    if rot: pat = tuple(zip(*pat))\n",
    "    return(next((i for i in range(1,len(pat))\n",
    "                if sum(t!=b for lt,lb in zip(pat[i-1::-1],pat[i:])\n",
    "                       for t,b in zip(lt,lb)) == s),0))\n",
    "for s in range(2):\n",
    "    print(\"Part%d: %d\"% ((s+1,sum(day13(pat, s, True)+\n",
    "                                  100*day13(pat, s, False)\n",
    "                                  for pat in patts))))\n",
    "\n"
   ]
  },
  {
   "cell_type": "code",
   "execution_count": 61,
   "metadata": {},
   "outputs": [
    {
     "name": "stdout",
     "output_type": "stream",
     "text": [
      "Part1: 107142\n",
      "Part2: 104815\n"
     ]
    }
   ],
   "source": [
    "import aocd\n",
    "\n",
    "data = aocd.get_data(day=14, year=2023).split(\"\\n\")\n",
    "n = len(data)\n",
    "m = len(data[0])\n",
    "sparse = {(i,j):data[i][j] for i in range(n) for j in range(m)}\n",
    "\n",
    "def load(hs,n,m): return sum(n-i for i,_ in hs)\n",
    "\n",
    "def rot(sparse,n,m): return {(j,n-i-1):sparse[(i,j)] \n",
    "                             for i,j in sparse},m,n\n",
    "\n",
    "def slide(sparse,n,m):\n",
    "    cur = [0]*m\n",
    "    for j in range(m):\n",
    "        for i in range(n):\n",
    "            if (i,j) in sparse:\n",
    "                if sparse[(i,j)] == 'O':\n",
    "                    del sparse[(i,j)]\n",
    "                    sparse[(cur[j],j)] = 'O'\n",
    "                    cur[j] += 1\n",
    "                elif sparse[(i,j)] == '#':\n",
    "                    cur[j] = i+1\n",
    "\n",
    "def fullrot(sparse, n, m):\n",
    "    for _ in range(4):\n",
    "        slide(sparse,n,m)\n",
    "        sparse,n,m = rot(sparse,n,m)\n",
    "    return sparse\n",
    "\n",
    "def hash(sparse): return tuple(sorted(k for k in sparse if sparse[k] == 'O'))\n",
    "\n",
    "slide(sparse,n,m)\n",
    "print(\"Part1:\", load(hash(sparse),n,m))\n",
    "\n",
    "cache = {hash(sparse):0}\n",
    "for c in range(1,10**9):\n",
    "    sparse = fullrot(sparse, n, m)\n",
    "    hs = hash(sparse)\n",
    "    if hs in cache:\n",
    "        start, length = cache[hs],c-cache[hs]\n",
    "        val = start+(1000000000-start)%length\n",
    "        print(\"Part2:\",load(next(k for k in cache if cache[k] == val),n,m))\n",
    "        break\n",
    "    cache[hs] = c"
   ]
  },
  {
   "cell_type": "code",
   "execution_count": 63,
   "id": "ea1ee05d",
   "metadata": {},
   "outputs": [
    {
     "name": "stdout",
     "output_type": "stream",
     "text": [
      "Part1: 107142\n",
      "Part2: 104815\n"
     ]
    }
   ],
   "source": [
    "import aocd\n",
    "\n",
    "data = [[c for c in line] for line in aocd.get_data(day=14, year=2023).split(\"\\n\")]\n",
    "n,m = len(data), len(data[0])\n",
    "\n",
    "def slidenorth(data):\n",
    "    for j in range(m):\n",
    "        c = 0\n",
    "        for i in range(n):\n",
    "            if data[i][j] == 'O': data[c][j],data[i][j],c = data[i][j], data[c][j], c+1\n",
    "            elif data[i][j] == '#': c = i+1\n",
    "    return data\n",
    "\n",
    "def slidesouth(data):\n",
    "    for j in range(m):\n",
    "        c = n-1\n",
    "        for i in range(n-1,-1,-1):\n",
    "            if data[i][j] == 'O': data[c][j],data[i][j],c = data[i][j], data[c][j], c-1\n",
    "            elif data[i][j] == '#': c = i-1\n",
    "    return data\n",
    "\n",
    "def slideeast(data):\n",
    "    for i in range(n):\n",
    "        c = m-1\n",
    "        for j in range(m-1,-1,-1):\n",
    "            if data[i][j] == 'O': data[i][c],data[i][j],c = data[i][j], data[i][c], c-1\n",
    "            elif data[i][j] == '#': c = j-1\n",
    "    return data\n",
    "\n",
    "def slidewest(data):\n",
    "    for i in range(n):\n",
    "        c = 0\n",
    "        for j in range(m):\n",
    "            if data[i][j] == 'O': data[i][c],data[i][j],c = data[i][j],data[i][c],c+1\n",
    "            elif data[i][j] == '#': c = j+1\n",
    "    return data\n",
    "\n",
    "def load(hs): return sum(n-i for (i,j) in hs)\n",
    "def fullrot(data): return slideeast(slidesouth(slidewest(slidenorth(data))))\n",
    "def hash(data): return tuple((i,j) for i in range(n) for j in range(m) if data[i][j] == 'O')\n",
    "\n",
    "slidenorth(data)\n",
    "print(\"Part1:\", load(hash(data)))\n",
    "\n",
    "cache = {hash(data):0}\n",
    "for c in range(1,10**9):\n",
    "    data = fullrot(data)\n",
    "    hs = hash(data)\n",
    "    if hs in cache:\n",
    "        start, length = cache[hs],c-cache[hs]\n",
    "        val = start+(1000000000-start)%length\n",
    "        print(\"Part2:\",load(next(k for k in cache if cache[k] == val)))\n",
    "        break\n",
    "    cache[hs] = c"
   ]
  },
  {
   "cell_type": "code",
   "execution_count": 119,
   "metadata": {},
   "outputs": [
    {
     "name": "stdout",
     "output_type": "stream",
     "text": [
      "Part1 497373\n",
      "Part2 259356\n"
     ]
    }
   ],
   "source": [
    "import aocd\n",
    "from functools import reduce\n",
    "\n",
    "data = aocd.get_data(day=15, year=2023)\n",
    "def hiter(c,ch): return (c+ord(ch))*17%256\n",
    "def hash(s): return reduce(hiter,s,0)\n",
    "\n",
    "print(\"Part1\", sum(hash(s) for s in data.split(',')))\n",
    "\n",
    "boxes = [dict() for _ in range(256)]\n",
    "for s in data.split(','):\n",
    "    label = s.strip('-').split('=')\n",
    "    box = boxes[hash(label[0])]\n",
    "    if len(label) == 1: box.pop(label[0],0)\n",
    "    else: box[label[0]] = int(label[1])\n",
    "        \n",
    "print(\"Part2\", sum(i*j*f for i,b in enumerate(boxes, 1)\n",
    "                for j,f in enumerate(b.values(), 1)))"
   ]
  },
  {
   "cell_type": "code",
   "execution_count": 120,
   "metadata": {},
   "outputs": [
    {
     "name": "stdout",
     "output_type": "stream",
     "text": [
      "Part1: 7199 Part2: 7438\n"
     ]
    }
   ],
   "source": [
    "import aocd\n",
    "\n",
    "dirs = [(0,1),(-1,0),(0,-1),(1,0)]\n",
    "ndirs = {('/'):[[1],[0],[3],[2]], ('\\\\'):[[3],[2],[1],[0]],\n",
    "         ('-'):[[0],[0,2],[2],[0,2]],('|'):[[1,3],[1],[1,3],[3]],\n",
    "         ('.'):[[0],[1],[2],[3]]}\n",
    "def tadd(a,b): return (a[0]+b[0],a[1]+b[1])\n",
    "\n",
    "data = aocd.get_data(day=16, year=2023).split('\\n')\n",
    "n,m = len(data), len(data[0])\n",
    "sparse = { (i,j):data[i][j] for i in range(n) for j in range(m)}\n",
    "\n",
    "def dfs(pos,di):\n",
    "    energized = {pos}\n",
    "    beams = [(pos,ndir) for ndir in ndirs[sparse[pos]][di]]\n",
    "    visited = set(beams)\n",
    "    while len(beams):\n",
    "        pos,di = beams.pop()\n",
    "        npos = tadd(pos,dirs[di])\n",
    "        if npos in sparse:\n",
    "            if npos not in energized: energized.add(npos)\n",
    "            for ndir in ndirs[sparse[npos]][di]:\n",
    "                if (npos,ndir) not in visited:\n",
    "                    visited.add((npos,ndir))\n",
    "                    beams.append((npos,ndir))\n",
    "    return len(energized)\n",
    "\n",
    "print(\"Part1: %d Part2: %d\" % (dfs((0,0),0),\n",
    "      max(dfs((i,j),d) for d in range(4) \n",
    "          for i in (range(n) if d%2==0 else [0,n-1])\n",
    "          for j in (range(m) if d%2==1 else [0,m-1]))))\n"
   ]
  },
  {
   "cell_type": "code",
   "execution_count": 6,
   "id": "d4e4a26b",
   "metadata": {},
   "outputs": [
    {
     "name": "stdout",
     "output_type": "stream",
     "text": [
      "Part1: 847 Part2: 997\n"
     ]
    }
   ],
   "source": [
    "from heapq import heappush, heappop\n",
    "import aocd\n",
    "data = aocd.get_data(day=17, year=2023).split('\\n')\n",
    "sparse = {(i,j):int(c) for i,line in enumerate(data) for j,c in enumerate(line)}\n",
    "n,m = len(data), len(data[0])\n",
    "def tadd(a,b): return (a[0]+b[0],a[1]+b[1])\n",
    "dirs = [(1,0), (0,-1), (-1,0), (0,1)]\n",
    "\n",
    "def solve(mi,ma):\n",
    "    heap = [(0,(0,0),(0,0))]\n",
    "    visited = {((0,0),(0,0))}\n",
    "    while len(heap):\n",
    "        cost, pos, lsdir = heappop(heap)\n",
    "        for di in range(-1,2):\n",
    "            if di == 0:\n",
    "                if lsdir[1] == ma: continue\n",
    "                else: idx = lsdir[1]+1\n",
    "            else:\n",
    "                idx = 1\n",
    "                if 0< lsdir[1] < mi: continue\n",
    "            ndi = (lsdir[0]+di)%4\n",
    "            npos = tadd(pos, dirs[ndi])\n",
    "            if (npos in sparse) and ((npos,(ndi,idx)) not in visited):\n",
    "                ncost = cost + sparse[npos]\n",
    "                if npos == (n-1,m-1): return ncost\n",
    "                visited.add((npos,(ndi,idx)))\n",
    "                heappush(heap,(ncost,npos,(ndi,idx)))\n",
    "\n",
    "print(\"Part1: %d Part2: %d\" % (solve(0,3),solve(4,10)))"
   ]
  },
  {
   "cell_type": "code",
   "execution_count": 22,
   "id": "334b8089",
   "metadata": {},
   "outputs": [
    {
     "name": "stdout",
     "output_type": "stream",
     "text": [
      "Part1: 847 Part2: 997\n"
     ]
    }
   ],
   "source": [
    "from heapq import heappush, heappop, heapify\n",
    "import aocd\n",
    "data = aocd.get_data(day=17, year=2023).split('\\n')\n",
    "#print(data[0])\n",
    "sparse = {(i,j):int(c) for i,line in enumerate(data) for j,c in enumerate(line)}\n",
    "n,m = len(data), len(data[0])\n",
    "def tadd(a,b): return (a[0]+b[0],a[1]+b[1])\n",
    "def taddm(a,b,c): return (a[0]+b[0]*c,a[1]+b[1]*c)\n",
    "dirs = [(1,0), (0,-1), (-1,0), (0,1)]\n",
    "\n",
    "def solve(mi,ma):\n",
    "    heap = [(0,(0,0),0),(0,(0,0),3)]\n",
    "    heapify(heap)\n",
    "    visited = set()\n",
    "    ret = 1000\n",
    "    while len(heap):\n",
    "        cost, pos, di = heappop(heap)\n",
    "        if (pos, di) in visited : continue\n",
    "        visited.add((pos, di))\n",
    "        if cost>ret: break\n",
    "        dir1 = (di+1)%4\n",
    "        dir2 = (di-1)%4\n",
    "        for step in range(ma):\n",
    "            pos = tadd(pos,dirs[di]) \n",
    "            if pos not in sparse: break\n",
    "            cost += sparse[pos]\n",
    "            if step+1 >= mi:\n",
    "                if pos == (n-1,m-1): \n",
    "                    ret = min(ret, cost)\n",
    "                if (pos,dir1) not in visited:\n",
    "                    heappush(heap,(cost,pos,dir1))\n",
    "                    heappush(heap,(cost,pos,dir2))\n",
    "    return ret\n",
    "print(\"Part1: %d Part2: %d\" % (solve(1,3),solve(4,10)))"
   ]
  },
  {
   "cell_type": "code",
   "execution_count": 55,
   "id": "8f6ae45e",
   "metadata": {},
   "outputs": [
    {
     "name": "stdout",
     "output_type": "stream",
     "text": [
      "Part1: 847 Part2: 997\n"
     ]
    }
   ],
   "source": [
    "import aocd\n",
    "data = aocd.get_data(day=17, year=2023).split('\\n')\n",
    "sparse = {(i,j):int(c) for i,line in enumerate(data) for j,c in enumerate(line)}\n",
    "n,m = len(data), len(data[0])\n",
    "def tadd(a,b): return (a[0]+b[0],a[1]+b[1])\n",
    "dirs = [(1,0), (0,-1), (-1,0), (0,1)]\n",
    "\n",
    "def solve(mi,ma):\n",
    "    ha = [[] for _ in range((n+m)*9)]\n",
    "    visited = [False for _ in range(n*m*4)]\n",
    "    ha[0] = [((0,0),0),((0,0),3)]\n",
    "    ret = 1000\n",
    "    for cost, bucket in enumerate(ha):\n",
    "        for pos, di in bucket:\n",
    "            dcost = 0\n",
    "            if visited[pos[0]*m+pos[1]+di*n*m] : continue\n",
    "            visited[pos[0]*m+pos[1]+di*n*m] = True\n",
    "            if cost+mi>ret: break\n",
    "            dir1 = (di+1)%4\n",
    "            dir2 = (di-1)%4\n",
    "            for step in range(ma):\n",
    "                pos = tadd(pos,dirs[di]) \n",
    "                if pos not in sparse: break\n",
    "                dcost += sparse[pos]\n",
    "                if step+1 >= mi:\n",
    "                    if pos == (n-1,m-1):\n",
    "                        ret = min(ret, cost+dcost)\n",
    "                    if visited[pos[0]*m+pos[1]+dir1*n*m] == False:\n",
    "                        ha[cost+dcost].append((pos,dir1))\n",
    "                        ha[cost+dcost].append((pos,dir2))\n",
    "    return ret\n",
    "print(\"Part1: %d Part2: %d\" % (solve(1,3),solve(4,10)))"
   ]
  },
  {
   "cell_type": "code",
   "execution_count": 30,
   "id": "731f427d",
   "metadata": {},
   "outputs": [
    {
     "name": "stdout",
     "output_type": "stream",
     "text": [
      "Part1: 847 Part2: 997\n"
     ]
    }
   ],
   "source": [
    "import aocd\n",
    "from collections import defaultdict\n",
    "data = aocd.get_data(day=17, year=2023).split('\\n')\n",
    "sparse = {(i,j):int(c) for i,line in enumerate(data) for j,c in enumerate(line)}\n",
    "n,m = len(data), len(data[0])\n",
    "\n",
    "def tadd(a,b): return (a[0]+b[0],a[1]+b[1])\n",
    "def taddm(a,b,c): return (a[0]+b[0]*c,a[1]+b[1]*c)\n",
    "dirs = [(1,0), (0,-1), (-1,0), (0,1)]\n",
    "\n",
    "def solve(mi,ma):\n",
    "    ha = defaultdict(list)\n",
    "    ha[0] = [((0,0),0),((0,0),3)]\n",
    "    visited = set()\n",
    "    ret = 10000\n",
    "    cost = 0\n",
    "    while True:\n",
    "        for pos, di in ha[cost]:\n",
    "            dcost = 0\n",
    "            if (pos, di) in visited : continue\n",
    "            visited.add((pos, di))\n",
    "            if cost+mi>ret: return ret\n",
    "            dir1 = (di+1)%4\n",
    "            dir2 = (di-1)%4\n",
    "            for step in range(ma):\n",
    "                pos = tadd(pos,dirs[di]) \n",
    "                if pos not in sparse: break\n",
    "                dcost += sparse[pos]\n",
    "                if step+1 >= mi:\n",
    "                    if pos == (n-1,m-1):\n",
    "                        ret = min(ret, cost+dcost)\n",
    "                    if (pos,dir1) not in visited:\n",
    "                        ha[cost+dcost].append((pos,dir1))\n",
    "                        ha[cost+dcost].append((pos,dir2))\n",
    "        cost += 1\n",
    "\n",
    "print(\"Part1: %d Part2: %d\" % (solve(1,3),solve(4,10)))"
   ]
  },
  {
   "cell_type": "code",
   "execution_count": 51,
   "id": "ea15d6a9",
   "metadata": {},
   "outputs": [
    {
     "name": "stdout",
     "output_type": "stream",
     "text": [
      "day17 847 997\n",
      ">>> 2.1947282\n"
     ]
    }
   ],
   "source": [
    "# With thanks to azzal07, who adapted my previous bucket queue solution to massively improve\n",
    "# runtime. By:\n",
    "# - Translating the grid into 1D coordinates (and making neighbors match with faster\n",
    "#   math). It's very clever how (+/-) next_d = w//d gives the cw and ccw turns!\n",
    "# - inlining a fixed size bucket queue inside the dijkstra impl.\n",
    "# - using a fixed list for dijkstra mins instead of a dict.\n",
    "# - unrolling neighbors in the hot loop\n",
    "import aocd\n",
    "\n",
    "D = [i.strip() for i in aocd.get_data(day=17, year=2023).split('\\n')]\n",
    "\n",
    "g = [int(ch) for row in D for ch in row]\n",
    "h = len(D)\n",
    "w = len(D[0])\n",
    "end = len(g) - 1\n",
    "MAX_SIZE = w * h * 9\n",
    "\n",
    "\n",
    "def dynamic_dijkstra(minimum, maximum, end):\n",
    "    seen, mins = set(), [[MAX_SIZE] * (w + 2) for _ in range(w * h)]\n",
    "    bh = [[] for _ in range(MAX_SIZE)]\n",
    "    for state in (0, 1), (0, w):\n",
    "        for c, (yx, d) in neighbors(state, minimum, maximum):\n",
    "            mins[yx][d] = c\n",
    "            bh[c].append((yx, d))\n",
    "    for cost, vs in enumerate(bh):\n",
    "        for v in vs:\n",
    "            if v in seen:\n",
    "                continue\n",
    "\n",
    "            if v[0] == end:\n",
    "                return cost\n",
    "\n",
    "            seen.add(v)\n",
    "\n",
    "            yx, d = v\n",
    "            next_d = w//d\n",
    "            next_cost = cost\n",
    "            for l in range(1, maximum):\n",
    "                yx += d\n",
    "                if yx < 0 or end < yx or (d == 1 and yx % w == 0) or (d == -1 and yx % w == (w-1)):\n",
    "                    break\n",
    "\n",
    "                next_cost += g[yx]\n",
    "                if l >= minimum:\n",
    "                    m = mins[yx]\n",
    "                    if next_cost < m[next_d]:\n",
    "                        m[next_d] = next_cost\n",
    "                        bh[next_cost].append((yx, next_d))\n",
    "                    if next_cost < m[-next_d]:\n",
    "                        m[-next_d] = next_cost\n",
    "                        bh[next_cost].append((yx, -next_d))\n",
    "\n",
    "\n",
    "def neighbors(state, minimum, maximum):\n",
    "    yx, d = state\n",
    "    cc = 0\n",
    "    for l in range(1, maximum):\n",
    "        yx += d\n",
    "        if yx < 0 or end < yx or (d == 1 and yx % w == 0) or (d == -1 and yx % w == (w-1)):\n",
    "            break\n",
    "\n",
    "        cc += g[yx]\n",
    "        if l >= minimum:\n",
    "            yield (cc, (yx, -w//d))\n",
    "            yield (cc, (yx, w//d))\n",
    "\n",
    "\n",
    "\n",
    "import time\n",
    "START = time.time_ns()\n",
    "print(\"day17\", dynamic_dijkstra(1, 4, end), dynamic_dijkstra(4, 11, end))\n",
    "print(\">>>\", (time.time_ns()-START)/1e9)"
   ]
  },
  {
   "cell_type": "code",
   "execution_count": 122,
   "id": "67bf8195",
   "metadata": {},
   "outputs": [
    {
     "name": "stdout",
     "output_type": "stream",
     "text": [
      "Part1: 39194 Part2: 78242031808225\n"
     ]
    }
   ],
   "source": [
    "import aocd\n",
    "data = aocd.get_data(day=18, year=2023)\n",
    "dirs = {'D':(1,0),'L':(0,-1),'U':(-1,0),'R':(0,1)}\n",
    "dirs2 = [(1,0),(0,1),(-1,0),(0,-1)]\n",
    "def tadd(a,b,c=1): return (a[0]+b[0]*c,a[1]+b[1]*c)\n",
    "points = [ (d,int(n),c[2:-1],int(c[2:-2],16),int(c[-2:-1])) for line in data.split('\\n') for d,n,c in [line.split()]]\n",
    "\n",
    "prev1, prev2 = (0,0), (0,0)\n",
    "area1=area2=peri1=peri2= 0\n",
    "\n",
    "def newpoint(steps,di,pos,peri,area):\n",
    "    npos = tadd(pos,di,steps)\n",
    "    return npos, peri+steps, area + pos[0]*npos[1] - pos[1]*npos[0]\n",
    "\n",
    "for point in points:\n",
    "    prev1,peri1,area1 = newpoint(point[1],dirs[point[0]],prev1,peri1,area1)\n",
    "    prev2,peri2,area2 = newpoint(point[3],dirs2[point[4]],prev2,peri2,area2)\n",
    "\n",
    "print (\"Part1: %d Part2: %d\" % (((abs(area1)+peri1) // 2) + 1, ((abs(area2)+peri2) // 2) + 1))"
   ]
  },
  {
   "cell_type": "code",
   "execution_count": 123,
   "id": "da5ffb50",
   "metadata": {},
   "outputs": [
    {
     "name": "stdout",
     "output_type": "stream",
     "text": [
      "Part1: 432788 Part2: 142863718918201\n"
     ]
    }
   ],
   "source": [
    "import aocd, math\n",
    "\n",
    "data = aocd.get_data(day=19, year=2023)\n",
    "W,P = data.split(\"\\n\\n\")\n",
    "P = [{ k:int(v) for item in part[1:-1].split(\",\") for k,v in [item.split(\"=\")]} \n",
    "     for part in P.split('\\n')]\n",
    "W = { k:[ c.split(\":\") for c in v[:-1].split(\",\")] \n",
    "     for w in W.split(\"\\n\") for k,v in [w.split(\"{\")]}\n",
    "\n",
    "part1 = 0\n",
    "for p in P:\n",
    "    cur = 'in'\n",
    "    while cur not in ['A','R']:\n",
    "        cur = next(( c[1] for c in W[cur][:-1] if eval(c[0], {}, p)),W[cur][-1][0])\n",
    "    if cur == 'A': part1 += sum(p.values())\n",
    "\n",
    "def countparts(di): return math.prod(di[k][1]-di[k][0]+1 for k in di)\n",
    "\n",
    "def part2(w,di):\n",
    "    if w == \"A\": return countparts(di)\n",
    "    elif w == \"R\": return 0\n",
    "    else:\n",
    "        di = {k:v for k,v in di.items()}\n",
    "        ret = 0\n",
    "        for c in W[w][:-1]:\n",
    "            p, op, val = c[0][0], c[0][1], int(c[0][2:])\n",
    "            start,stop = di[p]\n",
    "            if op == \"<\":\n",
    "                if start<val:\n",
    "                    di[p] = (start,min(stop,val-1))\n",
    "                    ret += part2(c[1],di)\n",
    "                if val<=stop:\n",
    "                    di[p] = (max(start,val),stop)\n",
    "                else: return ret\n",
    "            else:\n",
    "                if stop>val:\n",
    "                    di[p] = (max(start,val+1),stop)\n",
    "                    ret += part2(c[1],di)\n",
    "                if val>=start:\n",
    "                    di[p] = (start,min(stop,val))\n",
    "                else: return ret\n",
    "        ret += part2(W[w][-1][0],di)\n",
    "        return ret\n",
    "    \n",
    "print(\"Part1: %d Part2: %d\" % (part1, part2('in',{k:(1,4000) for k in 'xmas'})))"
   ]
  },
  {
   "cell_type": "code",
   "execution_count": 124,
   "id": "2552feba",
   "metadata": {},
   "outputs": [
    {
     "name": "stdout",
     "output_type": "stream",
     "text": [
      "Part1:  634473756\n",
      "Part2:  233338595643977\n"
     ]
    }
   ],
   "source": [
    "import aocd\n",
    "from math import lcm\n",
    "\n",
    "data = aocd.get_data(day=20, year=2023)\n",
    "modules = { s[1:]:(s[0],d.split(', ')) for line in data.split(\"\\n\") for s,d in [line.split(\" -> \")]}\n",
    "mem = {}\n",
    "for m in modules:\n",
    "    if modules[m][0] == '%':\n",
    "        mem[m] = False\n",
    "    for d in modules[m][1]:\n",
    "        if d in modules and modules[d][0] == '&':\n",
    "            if d in mem: mem[d][m] = False\n",
    "            else: mem[d] = {m:False}\n",
    "\n",
    "def flow(s,d,ishigh):\n",
    "    if modules[d][0] == \"%\":\n",
    "        if ishigh: return []\n",
    "        else: ne = mem[d] = not(mem[d])\n",
    "    else:\n",
    "        mem[d][s] = ishigh\n",
    "        ne = any(not(v) for v in mem[d].values())\n",
    "    return [(m, ne) for m in modules[d][1]]\n",
    "\n",
    "def button(cpt):\n",
    "    fifo = [('roadcaster',d,False) for d in modules['roadcaster'][1]]\n",
    "    cpt[0] += 1\n",
    "    while len(fifo):\n",
    "        s,d,ishigh = fifo.pop(0)\n",
    "        li = flow(s,d,ishigh)\n",
    "        for nd,nishigh in li:\n",
    "            cpt[nishigh] += 1\n",
    "            if nd == 'lv' and nishigh and d not in part2: part2[d] = i\n",
    "            if nd in modules: fifo.append((d,nd,nishigh))\n",
    "    return cpt\n",
    "cpt, i, part2 = [0,0], 1, {}\n",
    "for i in range(1,10000):\n",
    "    cpt = button(cpt)\n",
    "    if i == 1000: print(\"Part1: \", cpt[0]*cpt[1])\n",
    "    if len(part2) == 4:\n",
    "        print(\"Part2: \", lcm(*(part2.values())))\n",
    "        break"
   ]
  },
  {
   "cell_type": "code",
   "execution_count": 21,
   "id": "7b7cd486",
   "metadata": {},
   "outputs": [
    {
     "name": "stdout",
     "output_type": "stream",
     "text": [
      "Part1: 3261 Part2: 627960775905777\n"
     ]
    }
   ],
   "source": [
    "import aocd\n",
    "data = aocd.get_data(day=21, year=2023).split('\\n')\n",
    "n = len(data)\n",
    "sparse = {(i,j) for i in range(n) for j in range(n) if data[i][j] in '.S'}\n",
    "S = next((i,j) for i in range(n) for j in range(n) if data[i][j] == 'S')\n",
    "dirs = [(1,0),(-1,0),(0,1),(0,-1)]\n",
    "\n",
    "def tadd(a,b): return ((a[0]+b[0]),(a[1]+b[1]))\n",
    "def modp(a): return(a[0]%n, a[1]%n)\n",
    "\n",
    "visited, new, cache = {S}, {S}, {0:1}\n",
    "k, r  = 26501365//n, 26501365%n\n",
    "\n",
    "for c in range(1,r+2*n+1):\n",
    "    new,visited = { np for p in new for di in dirs for np in [tadd(p,di)] \n",
    "           if np not in visited and modp(np) in sparse}, new\n",
    "    cache[c] = len(new) + (cache[c-2] if c>1 else 0)\n",
    "\n",
    "d2 = cache[r+2*n]+cache[r]-2*cache[r+n]\n",
    "d1 = cache[r+2*n]-cache[r+n]\n",
    "print(\"Part1: %d Part2: %d\" % (cache[60],cache[r+2*n]+(k-2)*(2*d1+(k-1)*d2)//2))"
   ]
  },
  {
   "cell_type": "code",
   "execution_count": 4,
   "id": "80eef942",
   "metadata": {},
   "outputs": [
    {
     "data": {
      "text/plain": [
       "[4, 3, 2, 1, 0]"
      ]
     },
     "execution_count": 4,
     "metadata": {},
     "output_type": "execute_result"
    }
   ],
   "source": [
    "[0,1,2,3,4,5][4::-1]"
   ]
  },
  {
   "cell_type": "code",
   "execution_count": 126,
   "id": "5bfd8ea9",
   "metadata": {},
   "outputs": [
    {
     "name": "stdout",
     "output_type": "stream",
     "text": [
      "Part1: 524 Part2: 77070\n"
     ]
    }
   ],
   "source": [
    "import aocd\n",
    "\n",
    "data = aocd.get_data(day=22, year=2023).split('\\n')\n",
    "heights, supported = [], []\n",
    "L = [[int(c) for c in line.replace('~',',').split(',')] for line in data]\n",
    "L.sort(key=lambda x:x[2])\n",
    "\n",
    "for i,b in enumerate(L):\n",
    "    B = list(((b2[5]-b2[2])+heights[j]+1,j) \n",
    "             for j,b2 in enumerate(L[:i])\n",
    "             if b2[3]>=b[0] and b2[0]<=b[3] and b2[4]>=b[1] and b2[1]<=b[4])\n",
    "    heights.append(max((b[0] for b in B),default=1))\n",
    "    supported.append([j for h,j in B if h == heights[i]])\n",
    "\n",
    "unremovable = {v for l in supported if len(l)==1 for v in l}\n",
    "\n",
    "part2 = 0\n",
    "for i in unremovable:\n",
    "    dis = {i}\n",
    "    for j in range(i+1,len(L)):\n",
    "        if len(supported[j]) and all(s in dis for s in supported[j]): dis.add(j)\n",
    "    part2 += len(dis)-1\n",
    "    \n",
    "print(\"Part1: %d Part2: %d\" % (len(L) - len(unremovable),part2))"
   ]
  },
  {
   "cell_type": "code",
   "execution_count": 127,
   "id": "b04d2876",
   "metadata": {},
   "outputs": [
    {
     "name": "stdout",
     "output_type": "stream",
     "text": [
      "Part1: 2166 Part2: 6378\n"
     ]
    }
   ],
   "source": [
    "import aocd\n",
    "\n",
    "data = aocd.get_data(day=23, year=2023).split(\"\\n\")\n",
    "n, m = len(data), len(data[0])\n",
    "\n",
    "def tadd(a,b): return (a[0]+b[0], a[1]+b[1])\n",
    "dirs = [(0,1),(0,-1),(1,0),(-1,0)]\n",
    "slopes = [\".><\",\".<>\",\".v^\",\".^v\"]\n",
    "\n",
    "M = {(i,j):c for i,line in enumerate(data) for j, c in enumerate(line)}\n",
    "S = (0,next(i for i,c in enumerate(data[0]) if c=='.'))\n",
    "E = (n-1,next(i for i,c in enumerate(data[-1]) if c=='.'))\n",
    "\n",
    "oneway,oneway2,border, graph, idx = set(),set(),{0},{},0\n",
    "\n",
    "def graphadd(graph, s, d, cost):\n",
    "    if s not in graph: graph[s] = {}\n",
    "    graph[s][d] = cost\n",
    "\n",
    "visited, nm = {S}, {S:0}\n",
    "stack = [(S,i) for i,di in enumerate(dirs) if tadd(S,di) in M and M[tadd(S,di)] in '.<>^v']\n",
    "while len(stack):\n",
    "    start,direction = stack.pop(0)\n",
    "    prev, cpos, le = start, tadd(start,dirs[direction]), 1\n",
    "    visited.add(cpos)\n",
    "    way = slopes[direction].index(M[cpos])\n",
    "    ndirs = [(i,npos in visited) for i,di in enumerate(dirs)\n",
    "             for npos in [tadd(cpos,di)] if npos in M and M[npos] != '#']\n",
    "    while len(ndirs) == 2:\n",
    "        direction = next(di for di,_ in ndirs if prev != tadd(cpos,dirs[di]))\n",
    "        prev, cpos, le = cpos, tadd(cpos,dirs[direction]), le+1\n",
    "        way |= slopes[direction].index(M[cpos])\n",
    "        visited.add(cpos)\n",
    "        ndirs = [(i,npos in visited) for i,di in enumerate(dirs)\n",
    "                 for npos in [tadd(cpos,di)] if npos in M and M[npos] != '#']\n",
    "    \n",
    "    if cpos not in nm:\n",
    "        idx += 1\n",
    "        nm[cpos] = idx\n",
    "        \n",
    "    if way == 1: oneway.add((nm[cpos], nm[start]))\n",
    "    else: oneway.add((nm[start], nm[cpos]))\n",
    "\n",
    "    graphadd(graph, nm[start], nm[cpos], le)\n",
    "    graphadd(graph, nm[cpos], nm[start], le)\n",
    "\n",
    "    if len(ndirs) == 3 and nm[start] in border:\n",
    "        border.add(nm[cpos])\n",
    "        oneway2.add((nm[cpos],nm[start]))\n",
    "\n",
    "    for di in [di2 for di2,vis in ndirs if not(vis)]: stack.append((cpos,di))\n",
    "\n",
    "def longuestpath(oneway):\n",
    "    fwd, lmax = {}, 0\n",
    "\n",
    "    stack = [(0,0,0,0)]\n",
    "    while len(stack):\n",
    "        p,l,v,d = stack.pop()\n",
    "        if d == (idx) // 2:\n",
    "            if p not in fwd: fwd[p] = []\n",
    "            fwd[p].append((l,v))\n",
    "            continue\n",
    "        for n in graph[p]:\n",
    "            if (p,n) in oneway or v & 1<<n: continue\n",
    "            stack.append((n,l+graph[p][n],v|1<<p,d+1))\n",
    "    for n in fwd: fwd[n].sort(reverse=True)\n",
    "    \n",
    "    stack = [(nm[E],0,0,0)]\n",
    "    while len(stack):\n",
    "        p,l,v,d = stack.pop()\n",
    "        if d == (idx+1) // 2:\n",
    "            continue\n",
    "        if p == 0: \n",
    "            lmax = max(lmax, l)\n",
    "            continue\n",
    "        if p in fwd:\n",
    "            for fl,fv in fwd[p]:\n",
    "                if lmax > l+fl: break\n",
    "                if (v|1<<p) & fv: continue\n",
    "                lmax = max(lmax, l+fl)\n",
    "        for n in graph[p]:\n",
    "            if (n,p) in oneway or v & 1<<n: continue\n",
    "            stack.append((n,l+graph[p][n],v|1<<p,d+1))\n",
    "    return lmax\n",
    "\n",
    "print(\"Part1:\", longuestpath(oneway), \"Part2:\", longuestpath(oneway2))"
   ]
  },
  {
   "cell_type": "code",
   "execution_count": 128,
   "id": "d2475864",
   "metadata": {},
   "outputs": [
    {
     "name": "stdout",
     "output_type": "stream",
     "text": [
      "Part1:  19523\n",
      "Part2:  566373506408017\n"
     ]
    }
   ],
   "source": [
    "import aocd, numpy as np\n",
    "from itertools import combinations\n",
    "\n",
    "data = aocd.get_data(day=24, year=2023)\n",
    "\n",
    "L = [ list(map(int,l.replace(' @',',').split(', '))) for l in data.split('\\n')]\n",
    "mi, ma, part1 = 200000000000000, 400000000000000, 0\n",
    "\n",
    "for a,b in combinations(L,2):\n",
    "    if (b[4]/b[3] - a[4]/a[3]) == 0: continue\n",
    "    x = (a[1]-b[1] + b[4]*b[0]/b[3] - a[4]*a[0]/a[3])/(b[4]/b[3] - a[4]/a[3])\n",
    "    t1, t2 = (x-a[0])/a[3] , (x-b[0])/b[3]\n",
    "    y = a[1]+a[4]*t1\n",
    "    part1 += (t1>=0 and t2>=0 and mi<=x<=ma and mi<=y<=ma)\n",
    "\n",
    "print(\"Part1: \", part1)\n",
    "\n",
    "x1,x2,x3,x4 = L[:4]\n",
    "\n",
    "a = np.array([[(x2[4] - x1[4]), (x1[3] - x2[3]),0,(x1[1] - x2[1]),(x2[0] - x1[0]),0],\n",
    "            [(x2[5] - x1[5]),0, (x1[3] - x2[3]),(x1[2] - x2[2]),0,(x2[0] - x1[0])],\n",
    "            [(x3[4] - x1[4]), (x1[3] - x3[3]),0,(x1[1] - x3[1]),(x3[0] - x1[0]),0],\n",
    "            [(x3[5] - x1[5]),0, (x1[3] - x3[3]),(x1[2] - x3[2]),0,(x3[0] - x1[0])],\n",
    "            [(x4[4] - x1[4]), (x1[3] - x4[3]),0,(x1[1] - x4[1]),(x4[0] - x1[0]),0],\n",
    "            [(x4[5] - x1[5]),0, (x1[3] - x4[3]),(x1[2] - x4[2]),0,(x4[0] - x1[0])]])\n",
    "b = np.array([-x1[0]*x1[4] + x2[0]*x2[4] + x1[1]*x1[3] - x2[1]*x2[3],\n",
    "            -x1[0]*x1[5]+x2[0]*x2[5]+x1[2]*x1[3]-x2[2]*x2[3],\n",
    "            -x1[0]*x1[4]+x3[0]*x3[4]+x1[1]*x1[3]-x3[1]*x3[3],\n",
    "            -x1[0]*x1[5]+x3[0]*x3[5]+x1[2]*x1[3]-x3[2]*x3[3],\n",
    "            -x1[0]*x1[4]+x4[0]*x4[4]+x1[1]*x1[3]-x4[1]*x4[3],\n",
    "            -x1[0]*x1[5]+x4[0]*x4[5]+x1[2]*x1[3]-x4[2]*x4[3]])\n",
    "x = list(map(round,np.linalg.solve(a, b)))\n",
    "\n",
    "# answers lack precision, need to round them and rebase from real points\n",
    "t1 = round((x[0]-x1[0]) / (x[3]-x1[3]))\n",
    "print(\"Part2: \",sum(x1[:3])-t1*(sum(x1[3:])-sum(x[3:])))"
   ]
  },
  {
   "cell_type": "code",
   "execution_count": 129,
   "id": "eeeb120b",
   "metadata": {},
   "outputs": [
    {
     "name": "stdout",
     "output_type": "stream",
     "text": [
      "AoC 2023: 606062\n"
     ]
    }
   ],
   "source": [
    "from collections import defaultdict\n",
    "from heapq import heappop, heappush\n",
    "from itertools import pairwise\n",
    "\n",
    "data = aocd.get_data(day=25, year=2023)\n",
    "M = defaultdict(set)\n",
    "for line in data.split(\"\\n\"):\n",
    "    src,dst = line.split(': ')\n",
    "    for de in dst.split():\n",
    "        M[src].add(de)\n",
    "        M[de].add(src)\n",
    "\n",
    "def bfs(start, exclusions = {}, stop = -1):\n",
    "    visited = {start:(0,[start])}\n",
    "    heap = [(0,start,[start])]\n",
    "    while len(heap)>0:\n",
    "        dist, node, path = heappop(heap)\n",
    "        for de in M[node]:\n",
    "            if (node,de) in exclusions: continue\n",
    "            if de not in visited:\n",
    "                visited[de] = (dist+1, path+[de])\n",
    "                if de == stop and False:\n",
    "                    return len(visited),visited,stop\n",
    "                heappush(heap,(dist+1,de,path+[de]))\n",
    "    return (len(visited),visited, node)\n",
    "\n",
    "def findcut():\n",
    "    start = next(k for k in M)\n",
    "    _,visited,stop = bfs(start)\n",
    "    p1 = list(pairwise(visited[stop][1]))\n",
    "    p1 = p1[len(p1)//2-1::-1]+p1[len(p1)//2:]\n",
    "    for i,(s,d) in enumerate(p1):\n",
    "        exclusions = {(s,d),(d,s)}\n",
    "        _,visited2,_ = bfs(start, exclusions,stop)\n",
    "        p2 = list(pairwise(visited2[stop][1]))\n",
    "        p2 = p2[len(p2)//2-1::-1]+ p2[len(p2)//2:]\n",
    "        for j, (s2,d2) in enumerate(p2):\n",
    "            if (s2,d2) in p1: continue\n",
    "            exclusions = {(s,d),(d,s), (s2,d2),(d2,s2)}\n",
    "            _,visited3,_ = bfs(start, exclusions,stop)\n",
    "            p3 = list(pairwise(visited3[stop][1]))\n",
    "            p3 = p3[len(p3)//2-1::-1]+ p3[len(p3)//2:]\n",
    "            for k,(s3,d3) in enumerate(p3):\n",
    "                if (s3,d3) in p1 or (s3,d3) in p2: continue\n",
    "                exclusions = {(s,d),(d,s), (s2,d2),(d2,s2), (s3,d3),(d3,s3)}\n",
    "                lena,_,nstop = bfs(start, exclusions,stop)\n",
    "                if len(M) != lena:\n",
    "                   return (lena*(len(M)-lena))\n",
    "\n",
    "print(\"AoC 2023:\", findcut())\n"
   ]
  }
 ],
 "metadata": {
  "kernelspec": {
   "display_name": "base",
   "language": "python",
   "name": "python3"
  },
  "language_info": {
   "codemirror_mode": {
    "name": "ipython",
    "version": 3
   },
   "file_extension": ".py",
   "mimetype": "text/x-python",
   "name": "python",
   "nbconvert_exporter": "python",
   "pygments_lexer": "ipython3",
   "version": "3.12.4"
  }
 },
 "nbformat": 4,
 "nbformat_minor": 5
}
