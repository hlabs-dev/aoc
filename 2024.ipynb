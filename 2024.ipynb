{
 "cells": [
  {
   "cell_type": "code",
   "execution_count": 3,
   "metadata": {},
   "outputs": [],
   "source": [
    "import aocd\n",
    "from collections import deque\n",
    "\n",
    "data = aocd.get_data(day=1, year=2023)\n",
    "\n",
    "dirs = [(-1,0),(1,0),(0,1),(0,-1)]\n",
    "\n",
    "def tadd(a,b): return tuple(map(sum,zip(a,b)))\n",
    "\n",
    "#BFS\n",
    "def bfs(graph,node):\n",
    "    visited=set()\n",
    "    queue=deque([node])  \n",
    "    visited.add(node)\n",
    "    \n",
    "    while queue:\n",
    "        s=queue.popleft()\n",
    "        \n",
    "        for x in graph[s]:\n",
    "            if x not in visited:\n",
    "                visited.add(x)\n",
    "                queue.append(x)\n",
    "    return visited\n",
    "\n",
    "#DFS\n",
    "def dfs(graph,node):\n",
    "    visited=[]\n",
    "    queue=[]\n",
    "    \n",
    "    queue.append(node)\n",
    "    visited.append(node)\n",
    "    \n",
    "    while queue:\n",
    "        s=queue.pop()\n",
    "        print(s)\n",
    "        for x in graph[s][::-1]:\n",
    "            if x not in visited:\n",
    "                visited.append(x)\n",
    "                queue.append(x)\n",
    "\n",
    "#Dijkstra\n",
    "import heapq\n",
    "def dijkstra(graph,node):    \n",
    "    distances={node:float('inf') for node in graph}\n",
    "    distances[node]=0\n",
    "    came_from={node:None for node in graph}    \n",
    "    queue=[(0,node)]\n",
    "    \n",
    "    while queue:\n",
    "        current_distance,current_node=heapq.heappop(queue)\n",
    "        # relaxation\n",
    "        for next_node,weight in graph[current_node].items():\n",
    "            distance_temp=current_distance+weight\n",
    "            if distance_temp<distances[next_node]:\n",
    "                distances[next_node]=distance_temp\n",
    "                came_from[next_node]=current_node\n",
    "                heapq.heappush(queue,(distance_temp,next_node))\n",
    "    return distances,came_from\n",
    "\n",
    "#A*\n",
    "def astar(graph,start_node,end_node):\n",
    "   \n",
    "    f_distance={node:float('inf') for node in graph}\n",
    "    f_distance[start_node]=0\n",
    "    \n",
    "    g_distance={node:float('inf') for node in graph}\n",
    "    g_distance[start_node]=0\n",
    "    \n",
    "    came_from={node:None for node in graph}\n",
    "    came_from[start_node]=start_node\n",
    "    \n",
    "    queue=[(0,start_node)]    \n",
    "    while queue:\n",
    "        current_f_distance,current_node=heapq.heappop(queue)\n",
    "\n",
    "        if current_node == end_node:\n",
    "            return f_distance, came_from\n",
    "        for next_node,weights in graph[current_node].items():               \n",
    "            temp_g_distance=g_distance[current_node]+weights[0]            \n",
    "            if temp_g_distance<g_distance[next_node]:                \n",
    "                g_distance[next_node]=temp_g_distance\n",
    "                heuristic=weights[1]                \n",
    "                f_distance[next_node]=temp_g_distance+heuristic\n",
    "                came_from[next_node]=current_node\n",
    "                \n",
    "                heapq.heappush(queue,(f_distance[next_node],next_node))\n",
    "    return f_distance, came_from\n",
    "\n"
   ]
  },
  {
   "cell_type": "code",
   "execution_count": null,
   "metadata": {},
   "outputs": [
    {
     "name": "stdout",
     "output_type": "stream",
     "text": [
      "part1: 1579939 part2: 20351745\n"
     ]
    }
   ],
   "source": [
    "import aocd\n",
    "from collections import Counter\n",
    "\n",
    "data = aocd.get_data(day=1, year=2024)\n",
    "l1, l2 = map(sorted,zip(*((map(int,line.split())) for line in data.splitlines())))\n",
    "c = Counter(l2)\n",
    "\n",
    "print('part1:', sum(abs(a-b) for a,b in zip(l1,l2)),\n",
    "      'part2:', sum(k*c[k] for k in l1))"
   ]
  },
  {
   "cell_type": "code",
   "execution_count": null,
   "metadata": {},
   "outputs": [
    {
     "name": "stdout",
     "output_type": "stream",
     "text": [
      "part1: 369 part2: 428\n"
     ]
    }
   ],
   "source": [
    "import aocd\n",
    "from collections import Counter\n",
    "\n",
    "data = aocd.get_data(day=2, year=2024)\n",
    "T = list(list(map(int,line.split())) for line in data.splitlines())\n",
    "\n",
    "def isgood(line):\n",
    "    cnt = Counter(a-b for a,b in zip(line[:-1],line[1:]))\n",
    "    return all(0<k<4 for k in cnt) or all(0<-k<4 for k in cnt)\n",
    "\n",
    "def ispart(line):\n",
    "    if isgood(line): return 1\n",
    "    elif any(isgood(line[:i]+line[i+1:]) for i in range(len(line))): return 2\n",
    "    return 0\n",
    "\n",
    "res = Counter(ispart(line) for line in T)\n",
    "\n",
    "print('part1:', res[1], 'part2:', res[1]+res[2])"
   ]
  },
  {
   "cell_type": "code",
   "execution_count": null,
   "metadata": {},
   "outputs": [
    {
     "name": "stdout",
     "output_type": "stream",
     "text": [
      "part1: 182780583 part2: 90772405\n"
     ]
    }
   ],
   "source": [
    "import re, aocd\n",
    "\n",
    "data = aocd.get_data(day=3, year=2024)\n",
    "part1, part2, m = 0, 0, 1\n",
    "\n",
    "for ma in re.finditer(\"mul\\\\(([\\\\d]{1,3}),([\\\\d]{1,3})\\\\)|(do\\\\(\\\\))|(don't\\\\(\\\\))\", data):\n",
    "    if ma.group(0) == \"do()\": m = 1\n",
    "    elif ma.group(0) == \"don't()\": m = 0\n",
    "    else:\n",
    "        part1 += int(ma.group(1)) * int(ma.group(2))\n",
    "        part2 += int(ma.group(1)) * int(ma.group(2)) * m\n",
    "        \n",
    "print(\"part1:\", part1, \"part2:\", part2)"
   ]
  },
  {
   "cell_type": "code",
   "execution_count": 136,
   "metadata": {},
   "outputs": [
    {
     "name": "stdout",
     "output_type": "stream",
     "text": [
      "part1: 2548 part2: 2000\n"
     ]
    }
   ],
   "source": [
    "import aocd\n",
    "\n",
    "dirs = [(-1,0),(1,0),(0,1),(0,-1),(-1,1),(1,1),(-1,-1),(1,-1)]\n",
    "data = aocd.get_data(day=4, year=2024).splitlines()\n",
    "m, n = len(data), len(data[0])\n",
    "part1, part2 = 0, 0\n",
    "\n",
    "def inrange(i,j): return 0<=i<m and 0<=j<n\n",
    "\n",
    "for i in range(m):\n",
    "    for j in range(n):\n",
    "        if data[i][j] == \"X\":\n",
    "            for di,dj in dirs:\n",
    "                if not(inrange(i+3*di,j+3*dj)): break\n",
    "                for idx in range(1,4):\n",
    "                    if data[i+idx*di][j+idx*dj] == \"XMAS\"[idx]:\n",
    "                        if idx == 3: part1 +=1\n",
    "                    else: break\n",
    "        if data[i][j] == \"A\" and inrange(i-1,j-1) and inrange(i+1,j+1):\n",
    "            for di,dj in dirs[4:]:\n",
    "                for idx in range(4):\n",
    "                    if data[i+di][j+dj] == \"MMSS\"[idx]:\n",
    "                        if idx == 3: part2 += 1\n",
    "                        else: di, dj = dj, -di\n",
    "                    else: break \n",
    "\n",
    "print(\"part1:\", part1, \"part2:\", part2)\n"
   ]
  },
  {
   "cell_type": "code",
   "execution_count": 110,
   "metadata": {},
   "outputs": [
    {
     "data": {
      "text/plain": [
       "['X', 'M', 'A', 'S']"
      ]
     },
     "execution_count": 110,
     "metadata": {},
     "output_type": "execute_result"
    }
   ],
   "source": [
    "[1,2] in [1,2]\n",
    "list('XMAS')"
   ]
  },
  {
   "cell_type": "code",
   "execution_count": 155,
   "metadata": {},
   "outputs": [
    {
     "name": "stdout",
     "output_type": "stream",
     "text": [
      "2646\n",
      "2000\n"
     ]
    }
   ],
   "source": [
    "data = aocd.get_data(day=4, year=2024).splitlines()\n",
    "m, n = len(data), len(data[0])\n",
    "\n",
    "dirs = [(1,0),(0,1),(1,1),(-1,1)]\n",
    "\n",
    "T = list('XMAS'), list('SAMX')\n",
    "\n",
    "print(sum([data[i+di*n][j+dj*n] for n in range(4)] in T\n",
    "                for di,dj in dirs\n",
    "                for i in range(max(0,-3*di), min(m,m-3*di))\n",
    "                for j in range(max(0,-3*dj), min(n,n-3*dj))\n",
    "                ))\n",
    "\n",
    "print(sum( data[i][j] == \"A\" and \n",
    "          \"SSMM\" in \"\".join([data[i+1][j+1],data[i+1][j-1],\n",
    "                             data[i-1][j-1],data[i-1][j+1]])*2\n",
    "      for i in range(1,m-1)\n",
    "      for j in range(1,n-1)))"
   ]
  },
  {
   "cell_type": "code",
   "execution_count": 148,
   "metadata": {},
   "outputs": [
    {
     "data": {
      "text/plain": [
       "False"
      ]
     },
     "execution_count": 148,
     "metadata": {},
     "output_type": "execute_result"
    }
   ],
   "source": [
    "\"to\" in \"otf\"*2"
   ]
  },
  {
   "cell_type": "code",
   "execution_count": 141,
   "metadata": {},
   "outputs": [
    {
     "name": "stdout",
     "output_type": "stream",
     "text": [
      "2646\n"
     ]
    }
   ],
   "source": [
    "input = aocd.get_data(day=4, year=2024).splitlines()\n",
    "\n",
    "def rotate(input) :\n",
    "    return list(map(list, zip(*input[ ::- 1]) ))\n",
    "\n",
    "def flip(input):\n",
    "    return [l[ ::- 1] for l in input]\n",
    "\n",
    "def dediag(input) :\n",
    "    return [[*line[i:], '#', *line[:i]] for i, line in enumerate(input) ]\n",
    "\n",
    "def count_xmas(input) :\n",
    "    return sum(\"\".join(row).count(\"XMAS\")+\n",
    "               \"\".join(row).count(\"SAMX\") for row in input)\n",
    "\n",
    "def print_xmas(input) :\n",
    "    for l in input:\n",
    "        print(\"\".join(l))\n",
    "    print()\n",
    "\n",
    "tot = 0\n",
    "for _ in range(2):\n",
    "    tot += count_xmas(input)\n",
    "    input = rotate(input)\n",
    "\n",
    "tot += count_xmas(rotate(dediag(input) ))\n",
    "tot += count_xmas(rotate(dediag(flip(input))))\n",
    "\n",
    "print(tot)"
   ]
  },
  {
   "cell_type": "code",
   "execution_count": 46,
   "metadata": {},
   "outputs": [
    {
     "name": "stdout",
     "output_type": "stream",
     "text": [
      "part1: 4135 part2: 5285\n"
     ]
    }
   ],
   "source": [
    "import aocd\n",
    "from functools import cmp_to_key\n",
    "\n",
    "data = aocd.get_data(day=5, year=2024)\n",
    "\n",
    "prio, pages = data.split(\"\\n\\n\")\n",
    "prio = { tuple(line.split(\"|\")) for line in prio.splitlines() }\n",
    "pages = list(list(line.split(\",\")) for line in pages.splitlines())\n",
    "\n",
    "def cmp(a,b): return ((b,a) in prio) - ((a,b) in prio)\n",
    "\n",
    "part1, part2 = 0, 0\n",
    "\n",
    "for page in pages:\n",
    "    sorted_page = sorted(page,key=cmp_to_key(cmp))\n",
    "    mid = int(sorted_page[len(page)//2])\n",
    "    if page == sorted_page: part1 += mid\n",
    "    else: part2 += mid\n",
    "                                \n",
    "print(\"part1:\", part1, \"part2:\", part2)\n",
    "\n",
    "\n"
   ]
  },
  {
   "cell_type": "code",
   "execution_count": 61,
   "metadata": {},
   "outputs": [
    {
     "name": "stdout",
     "output_type": "stream",
     "text": [
      "part1: 4433 part2: 1516\n"
     ]
    }
   ],
   "source": [
    "import aocd\n",
    "\n",
    "data = aocd.get_data(day=6, year=2024)\n",
    "\n",
    "data = [[c for j,c in enumerate(line)] for i,line in enumerate(data.splitlines())]\n",
    "m, n = len(data), len(data[0])\n",
    "\n",
    "def inrange(i,j): return 0<=i<m and 0<=j<n\n",
    "def pmap(): print(\"\\n\".join(\"\".join(c for c in line) for line in data))\n",
    "\n",
    "di, dj= -1, 0\n",
    "pi, pj = next((i,j) for i in range(m) for j in range(n) if data[i][j] == \"^\")\n",
    "data[pi][pj] = \"X\"\n",
    "\n",
    "fast = {}\n",
    "\n",
    "for i in range(m):\n",
    "    lObs, lObs2 = -2, 0\n",
    "    for j in range(n):\n",
    "        if data[i][j] == \"#\": lObs = j\n",
    "        else: fast[(i,j,0,-1)] = (i,lObs+1,-1,0)\n",
    "        if data[i][n-j-1] == \"#\": lObs2 = n-j-1\n",
    "        else: fast[(i,n-j-1,0,1)] = (i,lObs2-1,1,0)\n",
    "\n",
    "for j in range(n):\n",
    "    lObs, lObs2 = -2, n+1\n",
    "    for i in range(m):\n",
    "        if data[i][j] == \"#\": lObs = i\n",
    "        else: fast[(i,j,-1,0)] = (lObs+1,j,0,1)\n",
    "        if data[m-i-1][j] == \"#\": lObs2 = m-i-1\n",
    "        else: fast[(m-i-1,j,1,0)] = (lObs2-1,j,0,-1)\n",
    "\n",
    "def solve(pi,pj,di,dj):\n",
    "    part1, part2 = 1, 0\n",
    "    cache = {(pi,pj,di,dj)}\n",
    "    while(inrange(pi+di,pj+dj)):\n",
    "        cell = data[pi+di][pj+dj]\n",
    "        if cell == \".\":\n",
    "            part2 += isloop(pi,pj,dj,-di,pi+di,pj+dj,cache)\n",
    "            pi, pj, part1 = pi+di, pj+dj, part1+1\n",
    "            data[pi][pj] = \"X\"\n",
    "        elif cell in {\"#\",\"0\"}: di,dj = dj,-di\n",
    "        else: pi, pj = pi+di, pj+dj\n",
    "        cache.add((pi,pj,di,dj))\n",
    "    print(\"part1:\",part1,\"part2:\", part2)\n",
    "\n",
    "def isloop(pi,pj,di,dj,oi,oj,cache):\n",
    "    cache2 = set()\n",
    "    while inrange(pi,pj):\n",
    "        npi,npj,ndi,ndj = fast[pi,pj,di,dj]\n",
    "        if ((oi == pi and di == 0 and (npj-oj)*(pj-oj)<0) or\n",
    "            (oj == pj and dj == 0 and (npi-oi)*(pi-oi)<0)):\n",
    "            pi,pj,di,dj = oi-di, oj-dj, ndi,ndj\n",
    "        else: pi,pj,di,dj = npi,npj,ndi,ndj\n",
    "\n",
    "        if (((pi,pj,di,dj) in cache2) or\n",
    "            ((pi,pj,di,dj) in cache)): return 1\n",
    "        cache2.add((pi,pj,di,dj))\n",
    "    return 0\n",
    "\n",
    "solve(pi,pj,di,dj)\n"
   ]
  },
  {
   "cell_type": "code",
   "execution_count": null,
   "metadata": {},
   "outputs": [
    {
     "name": "stdout",
     "output_type": "stream",
     "text": [
      "part1: 4364915411363 part2 38322057216320\n"
     ]
    }
   ],
   "source": [
    "import aocd\n",
    "\n",
    "data = aocd.get_data(day=7, year=2024)\n",
    "data = [(int(a), list(map(int,b.split()))) \n",
    "        for line in data.splitlines() \n",
    "        for a,b in [line.split(\":\")] ]\n",
    "\n",
    "def isok(target,li,part=1):\n",
    "cur = [target]\n",
    "for v in li[:0:-1]:\n",
    "        ncur = []\n",
    "        for res in cur:\n",
    "        if v<res: ncur.append(res-v)\n",
    "        if res%v == 0: ncur.append(res//v)\n",
    "        if part == 2:\n",
    "                sv, sres = str(v), str(res)\n",
    "                if len(sres)>len(sv) and sres[-len(sv):] == sv:\n",
    "                ncur.append(int(sres[:-len(sv)]))\n",
    "        if len(ncur) == 0: return 0\n",
    "        cur = ncur\n",
    "return li[0] in cur\n",
    "\n",
    "print(\"part1:\",sum((isok(v,li))*v for v,li in data),\n",
    "\"part2\",sum((isok(v,li,2))*v for v,li in data))"
   ]
  },
  {
   "cell_type": "code",
   "execution_count": null,
   "metadata": {},
   "outputs": [
    {
     "data": {
      "text/plain": [
       "'stri'"
      ]
     },
     "execution_count": 31,
     "metadata": {},
     "output_type": "execute_result"
    }
   ],
   "source": []
  }
 ],
 "metadata": {
  "kernelspec": {
   "display_name": "base",
   "language": "python",
   "name": "python3"
  },
  "language_info": {
   "codemirror_mode": {
    "name": "ipython",
    "version": 3
   },
   "file_extension": ".py",
   "mimetype": "text/x-python",
   "name": "python",
   "nbconvert_exporter": "python",
   "pygments_lexer": "ipython3",
   "version": "3.12.4"
  }
 },
 "nbformat": 4,
 "nbformat_minor": 2
}
