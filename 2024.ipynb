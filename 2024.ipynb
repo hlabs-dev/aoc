{
 "cells": [
  {
   "cell_type": "code",
   "execution_count": 3,
   "metadata": {},
   "outputs": [],
   "source": [
    "import aocd\n",
    "from collections import deque\n",
    "\n",
    "data = aocd.get_data(day=1, year=2023)\n",
    "\n",
    "dirs = [(-1,0),(1,0),(0,1),(0,-1)]\n",
    "\n",
    "def tadd(a,b): return tuple(map(sum,zip(a,b)))\n",
    "\n",
    "#BFS\n",
    "def bfs(graph,node):\n",
    "    visited=set()\n",
    "    queue=deque([node])  \n",
    "    visited.add(node)\n",
    "    \n",
    "    while queue:\n",
    "        s=queue.popleft()\n",
    "        \n",
    "        for x in graph[s]:\n",
    "            if x not in visited:\n",
    "                visited.add(x)\n",
    "                queue.append(x)\n",
    "    return visited\n",
    "\n",
    "#DFS\n",
    "def dfs(graph,node):\n",
    "    visited=[]\n",
    "    queue=[]\n",
    "    \n",
    "    queue.append(node)\n",
    "    visited.append(node)\n",
    "    \n",
    "    while queue:\n",
    "        s=queue.pop()\n",
    "        print(s)\n",
    "        for x in graph[s][::-1]:\n",
    "            if x not in visited:\n",
    "                visited.append(x)\n",
    "                queue.append(x)\n",
    "\n",
    "#Dijkstra\n",
    "import heapq\n",
    "def dijkstra(graph,node):    \n",
    "    distances={node:float('inf') for node in graph}\n",
    "    distances[node]=0\n",
    "    came_from={node:None for node in graph}    \n",
    "    queue=[(0,node)]\n",
    "    \n",
    "    while queue:\n",
    "        current_distance,current_node=heapq.heappop(queue)\n",
    "        # relaxation\n",
    "        for next_node,weight in graph[current_node].items():\n",
    "            distance_temp=current_distance+weight\n",
    "            if distance_temp<distances[next_node]:\n",
    "                distances[next_node]=distance_temp\n",
    "                came_from[next_node]=current_node\n",
    "                heapq.heappush(queue,(distance_temp,next_node))\n",
    "    return distances,came_from\n",
    "\n",
    "#A*\n",
    "def astar(graph,start_node,end_node):\n",
    "   \n",
    "    f_distance={node:float('inf') for node in graph}\n",
    "    f_distance[start_node]=0\n",
    "    \n",
    "    g_distance={node:float('inf') for node in graph}\n",
    "    g_distance[start_node]=0\n",
    "    \n",
    "    came_from={node:None for node in graph}\n",
    "    came_from[start_node]=start_node\n",
    "    \n",
    "    queue=[(0,start_node)]    \n",
    "    while queue:\n",
    "        current_f_distance,current_node=heapq.heappop(queue)\n",
    "\n",
    "        if current_node == end_node:\n",
    "            return f_distance, came_from\n",
    "        for next_node,weights in graph[current_node].items():               \n",
    "            temp_g_distance=g_distance[current_node]+weights[0]            \n",
    "            if temp_g_distance<g_distance[next_node]:                \n",
    "                g_distance[next_node]=temp_g_distance\n",
    "                heuristic=weights[1]                \n",
    "                f_distance[next_node]=temp_g_distance+heuristic\n",
    "                came_from[next_node]=current_node\n",
    "                \n",
    "                heapq.heappush(queue,(f_distance[next_node],next_node))\n",
    "    return f_distance, came_from\n",
    "\n"
   ]
  },
  {
   "cell_type": "code",
   "execution_count": null,
   "metadata": {},
   "outputs": [
    {
     "name": "stdout",
     "output_type": "stream",
     "text": [
      "part1: 1579939 part2: 20351745\n"
     ]
    }
   ],
   "source": [
    "import aocd\n",
    "from collections import Counter\n",
    "\n",
    "data = aocd.get_data(day=1, year=2024)\n",
    "l1, l2 = map(sorted,zip(*((map(int,line.split())) for line in data.splitlines())))\n",
    "c = Counter(l2)\n",
    "\n",
    "print('part1:', sum(abs(a-b) for a,b in zip(l1,l2)),\n",
    "      'part2:', sum(k*c[k] for k in l1))"
   ]
  },
  {
   "cell_type": "code",
   "execution_count": null,
   "metadata": {},
   "outputs": [
    {
     "name": "stdout",
     "output_type": "stream",
     "text": [
      "part1: 369 part2: 428\n"
     ]
    }
   ],
   "source": [
    "import aocd\n",
    "from collections import Counter\n",
    "\n",
    "data = aocd.get_data(day=2, year=2024)\n",
    "T = list(list(map(int,line.split())) for line in data.splitlines())\n",
    "\n",
    "def isgood(line):\n",
    "    cnt = Counter(a-b for a,b in zip(line[:-1],line[1:]))\n",
    "    return all(0<k<4 for k in cnt) or all(0<-k<4 for k in cnt)\n",
    "\n",
    "def ispart(line):\n",
    "    if isgood(line): return 1\n",
    "    elif any(isgood(line[:i]+line[i+1:]) for i in range(len(line))): return 2\n",
    "    return 0\n",
    "\n",
    "res = Counter(ispart(line) for line in T)\n",
    "\n",
    "print('part1:', res[1], 'part2:', res[1]+res[2])"
   ]
  },
  {
   "cell_type": "code",
   "execution_count": 65,
   "metadata": {},
   "outputs": [
    {
     "name": "stdout",
     "output_type": "stream",
     "text": [
      "part1: 182780583 part2: 90772405\n"
     ]
    }
   ],
   "source": [
    "import re, aocd\n",
    "\n",
    "data = aocd.get_data(day=3, year=2024)\n",
    "part1, part2, m = 0, 0, 1\n",
    "\n",
    "for ma in re.finditer(\"mul\\\\(([\\\\d]{1,3}),([\\\\d]{1,3})\\\\)|(do\\\\(\\\\))|(don't\\\\(\\\\))\", data):\n",
    "    if ma.group(0) == \"do()\": m = 1\n",
    "    elif ma.group(0) == \"don't()\": m = 0\n",
    "    else:\n",
    "        part1 += int(ma.group(1)) * int(ma.group(2))\n",
    "        part2 += int(ma.group(1)) * int(ma.group(2)) * m\n",
    "print(\"part1:\", part1, \"part2:\", part2)"
   ]
  }
 ],
 "metadata": {
  "kernelspec": {
   "display_name": "base",
   "language": "python",
   "name": "python3"
  },
  "language_info": {
   "codemirror_mode": {
    "name": "ipython",
    "version": 3
   },
   "file_extension": ".py",
   "mimetype": "text/x-python",
   "name": "python",
   "nbconvert_exporter": "python",
   "pygments_lexer": "ipython3",
   "version": "3.12.4"
  }
 },
 "nbformat": 4,
 "nbformat_minor": 2
}
