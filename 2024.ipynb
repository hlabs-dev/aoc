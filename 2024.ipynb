{
 "cells": [
  {
   "cell_type": "code",
   "execution_count": 3,
   "metadata": {},
   "outputs": [],
   "source": [
    "import aocd\n",
    "from collections import deque\n",
    "\n",
    "data = aocd.get_data(day=1, year=2023)\n",
    "\n",
    "dirs = [(-1,0),(1,0),(0,1),(0,-1)]\n",
    "\n",
    "def tadd(a,b): return tuple(map(sum,zip(a,b)))\n",
    "\n",
    "#BFS\n",
    "def bfs(graph,node):\n",
    "    visited=set()\n",
    "    queue=deque([node])  \n",
    "    visited.add(node)\n",
    "    \n",
    "    while queue:\n",
    "        s=queue.popleft()\n",
    "        \n",
    "        for x in graph[s]:\n",
    "            if x not in visited:\n",
    "                visited.add(x)\n",
    "                queue.append(x)\n",
    "    return visited\n",
    "\n",
    "#DFS\n",
    "def dfs(graph,node):\n",
    "    visited=[]\n",
    "    queue=[]\n",
    "    \n",
    "    queue.append(node)\n",
    "    visited.append(node)\n",
    "    \n",
    "    while queue:\n",
    "        s=queue.pop()\n",
    "        print(s)\n",
    "        for x in graph[s][::-1]:\n",
    "            if x not in visited:\n",
    "                visited.append(x)\n",
    "                queue.append(x)\n",
    "\n",
    "#Dijkstra\n",
    "import heapq\n",
    "def dijkstra(graph,node):    \n",
    "    distances={node:float('inf') for node in graph}\n",
    "    distances[node]=0\n",
    "    came_from={node:None for node in graph}    \n",
    "    queue=[(0,node)]\n",
    "    \n",
    "    while queue:\n",
    "        current_distance,current_node=heapq.heappop(queue)\n",
    "        # relaxation\n",
    "        for next_node,weight in graph[current_node].items():\n",
    "            distance_temp=current_distance+weight\n",
    "            if distance_temp<distances[next_node]:\n",
    "                distances[next_node]=distance_temp\n",
    "                came_from[next_node]=current_node\n",
    "                heapq.heappush(queue,(distance_temp,next_node))\n",
    "    return distances,came_from\n",
    "\n",
    "#A*\n",
    "def astar(graph,start_node,end_node):\n",
    "   \n",
    "    f_distance={node:float('inf') for node in graph}\n",
    "    f_distance[start_node]=0\n",
    "    \n",
    "    g_distance={node:float('inf') for node in graph}\n",
    "    g_distance[start_node]=0\n",
    "    \n",
    "    came_from={node:None for node in graph}\n",
    "    came_from[start_node]=start_node\n",
    "    \n",
    "    queue=[(0,start_node)]    \n",
    "    while queue:\n",
    "        current_f_distance,current_node=heapq.heappop(queue)\n",
    "\n",
    "        if current_node == end_node:\n",
    "            return f_distance, came_from\n",
    "        for next_node,weights in graph[current_node].items():               \n",
    "            temp_g_distance=g_distance[current_node]+weights[0]            \n",
    "            if temp_g_distance<g_distance[next_node]:                \n",
    "                g_distance[next_node]=temp_g_distance\n",
    "                heuristic=weights[1]                \n",
    "                f_distance[next_node]=temp_g_distance+heuristic\n",
    "                came_from[next_node]=current_node\n",
    "                \n",
    "                heapq.heappush(queue,(f_distance[next_node],next_node))\n",
    "    return f_distance, came_from\n",
    "\n"
   ]
  },
  {
   "cell_type": "code",
   "execution_count": null,
   "metadata": {},
   "outputs": [
    {
     "name": "stdout",
     "output_type": "stream",
     "text": [
      "part1: 1579939 part2: 20351745\n"
     ]
    }
   ],
   "source": [
    "import aocd\n",
    "from collections import Counter\n",
    "\n",
    "data = aocd.get_data(day=1, year=2024)\n",
    "l1, l2 = map(sorted,zip(*((map(int,line.split())) for line in data.splitlines())))\n",
    "c = Counter(l2)\n",
    "\n",
    "print('part1:', sum(abs(a-b) for a,b in zip(l1,l2)),\n",
    "      'part2:', sum(k*c[k] for k in l1))"
   ]
  },
  {
   "cell_type": "code",
   "execution_count": null,
   "metadata": {},
   "outputs": [
    {
     "name": "stdout",
     "output_type": "stream",
     "text": [
      "part1: 369 part2: 428\n"
     ]
    }
   ],
   "source": [
    "import aocd\n",
    "from collections import Counter\n",
    "\n",
    "data = aocd.get_data(day=2, year=2024)\n",
    "T = list(list(map(int,line.split())) for line in data.splitlines())\n",
    "\n",
    "def isgood(line):\n",
    "    cnt = Counter(a-b for a,b in zip(line[:-1],line[1:]))\n",
    "    return all(0<k<4 for k in cnt) or all(0<-k<4 for k in cnt)\n",
    "\n",
    "def ispart(line):\n",
    "    if isgood(line): return 1\n",
    "    elif any(isgood(line[:i]+line[i+1:]) for i in range(len(line))): return 2\n",
    "    return 0\n",
    "\n",
    "res = Counter(ispart(line) for line in T)\n",
    "\n",
    "print('part1:', res[1], 'part2:', res[1]+res[2])"
   ]
  },
  {
   "cell_type": "code",
   "execution_count": null,
   "metadata": {},
   "outputs": [
    {
     "name": "stdout",
     "output_type": "stream",
     "text": [
      "part1: 182780583 part2: 90772405\n"
     ]
    }
   ],
   "source": [
    "import re, aocd\n",
    "\n",
    "data = aocd.get_data(day=3, year=2024)\n",
    "part1, part2, m = 0, 0, 1\n",
    "\n",
    "for ma in re.finditer(\"mul\\\\(([\\\\d]{1,3}),([\\\\d]{1,3})\\\\)|(do\\\\(\\\\))|(don't\\\\(\\\\))\", data):\n",
    "    if ma.group(0) == \"do()\": m = 1\n",
    "    elif ma.group(0) == \"don't()\": m = 0\n",
    "    else:\n",
    "        part1 += int(ma.group(1)) * int(ma.group(2))\n",
    "        part2 += int(ma.group(1)) * int(ma.group(2)) * m\n",
    "        \n",
    "print(\"part1:\", part1, \"part2:\", part2)"
   ]
  },
  {
   "cell_type": "code",
   "execution_count": 136,
   "metadata": {},
   "outputs": [
    {
     "name": "stdout",
     "output_type": "stream",
     "text": [
      "part1: 2548 part2: 2000\n"
     ]
    }
   ],
   "source": [
    "import aocd\n",
    "\n",
    "dirs = [(-1,0),(1,0),(0,1),(0,-1),(-1,1),(1,1),(-1,-1),(1,-1)]\n",
    "data = aocd.get_data(day=4, year=2024).splitlines()\n",
    "m, n = len(data), len(data[0])\n",
    "part1, part2 = 0, 0\n",
    "\n",
    "def inrange(i,j): return 0<=i<m and 0<=j<n\n",
    "\n",
    "for i in range(m):\n",
    "    for j in range(n):\n",
    "        if data[i][j] == \"X\":\n",
    "            for di,dj in dirs:\n",
    "                if not(inrange(i+3*di,j+3*dj)): break\n",
    "                for idx in range(1,4):\n",
    "                    if data[i+idx*di][j+idx*dj] == \"XMAS\"[idx]:\n",
    "                        if idx == 3: part1 +=1\n",
    "                    else: break\n",
    "        if data[i][j] == \"A\" and inrange(i-1,j-1) and inrange(i+1,j+1):\n",
    "            for di,dj in dirs[4:]:\n",
    "                for idx in range(4):\n",
    "                    if data[i+di][j+dj] == \"MMSS\"[idx]:\n",
    "                        if idx == 3: part2 += 1\n",
    "                        else: di, dj = dj, -di\n",
    "                    else: break \n",
    "\n",
    "print(\"part1:\", part1, \"part2:\", part2)\n"
   ]
  },
  {
   "cell_type": "code",
   "execution_count": 110,
   "metadata": {},
   "outputs": [
    {
     "data": {
      "text/plain": [
       "['X', 'M', 'A', 'S']"
      ]
     },
     "execution_count": 110,
     "metadata": {},
     "output_type": "execute_result"
    }
   ],
   "source": [
    "[1,2] in [1,2]\n",
    "list('XMAS')"
   ]
  },
  {
   "cell_type": "code",
   "execution_count": 155,
   "metadata": {},
   "outputs": [
    {
     "name": "stdout",
     "output_type": "stream",
     "text": [
      "2646\n",
      "2000\n"
     ]
    }
   ],
   "source": [
    "data = aocd.get_data(day=4, year=2024).splitlines()\n",
    "m, n = len(data), len(data[0])\n",
    "\n",
    "dirs = [(1,0),(0,1),(1,1),(-1,1)]\n",
    "\n",
    "T = list('XMAS'), list('SAMX')\n",
    "\n",
    "print(sum([data[i+di*n][j+dj*n] for n in range(4)] in T\n",
    "                for di,dj in dirs\n",
    "                for i in range(max(0,-3*di), min(m,m-3*di))\n",
    "                for j in range(max(0,-3*dj), min(n,n-3*dj))\n",
    "                ))\n",
    "\n",
    "print(sum( data[i][j] == \"A\" and \n",
    "          \"SSMM\" in \"\".join([data[i+1][j+1],data[i+1][j-1],\n",
    "                             data[i-1][j-1],data[i-1][j+1]])*2\n",
    "      for i in range(1,m-1)\n",
    "      for j in range(1,n-1)))"
   ]
  },
  {
   "cell_type": "code",
   "execution_count": 148,
   "metadata": {},
   "outputs": [
    {
     "data": {
      "text/plain": [
       "False"
      ]
     },
     "execution_count": 148,
     "metadata": {},
     "output_type": "execute_result"
    }
   ],
   "source": [
    "\"to\" in \"otf\"*2"
   ]
  },
  {
   "cell_type": "code",
   "execution_count": 141,
   "metadata": {},
   "outputs": [
    {
     "name": "stdout",
     "output_type": "stream",
     "text": [
      "2646\n"
     ]
    }
   ],
   "source": [
    "input = aocd.get_data(day=4, year=2024).splitlines()\n",
    "\n",
    "def rotate(input) :\n",
    "    return list(map(list, zip(*input[ ::- 1]) ))\n",
    "\n",
    "def flip(input):\n",
    "    return [l[ ::- 1] for l in input]\n",
    "\n",
    "def dediag(input) :\n",
    "    return [[*line[i:], '#', *line[:i]] for i, line in enumerate(input) ]\n",
    "\n",
    "def count_xmas(input) :\n",
    "    return sum(\"\".join(row).count(\"XMAS\")+\n",
    "               \"\".join(row).count(\"SAMX\") for row in input)\n",
    "\n",
    "def print_xmas(input) :\n",
    "    for l in input:\n",
    "        print(\"\".join(l))\n",
    "    print()\n",
    "\n",
    "tot = 0\n",
    "for _ in range(2):\n",
    "    tot += count_xmas(input)\n",
    "    input = rotate(input)\n",
    "\n",
    "tot += count_xmas(rotate(dediag(input) ))\n",
    "tot += count_xmas(rotate(dediag(flip(input))))\n",
    "\n",
    "print(tot)"
   ]
  },
  {
   "cell_type": "code",
   "execution_count": 46,
   "metadata": {},
   "outputs": [
    {
     "name": "stdout",
     "output_type": "stream",
     "text": [
      "part1: 4135 part2: 5285\n"
     ]
    }
   ],
   "source": [
    "import aocd\n",
    "from functools import cmp_to_key\n",
    "\n",
    "data = aocd.get_data(day=5, year=2024)\n",
    "\n",
    "prio, pages = data.split(\"\\n\\n\")\n",
    "prio = { tuple(line.split(\"|\")) for line in prio.splitlines() }\n",
    "pages = list(list(line.split(\",\")) for line in pages.splitlines())\n",
    "\n",
    "def cmp(a,b): return ((b,a) in prio) - ((a,b) in prio)\n",
    "\n",
    "part1, part2 = 0, 0\n",
    "\n",
    "for page in pages:\n",
    "    sorted_page = sorted(page,key=cmp_to_key(cmp))\n",
    "    mid = int(sorted_page[len(page)//2])\n",
    "    if page == sorted_page: part1 += mid\n",
    "    else: part2 += mid\n",
    "                                \n",
    "print(\"part1:\", part1, \"part2:\", part2)\n",
    "\n",
    "\n"
   ]
  },
  {
   "cell_type": "code",
   "execution_count": 61,
   "metadata": {},
   "outputs": [
    {
     "name": "stdout",
     "output_type": "stream",
     "text": [
      "part1: 4433 part2: 1516\n"
     ]
    }
   ],
   "source": [
    "import aocd\n",
    "\n",
    "data = aocd.get_data(day=6, year=2024)\n",
    "\n",
    "data = [[c for j,c in enumerate(line)] for i,line in enumerate(data.splitlines())]\n",
    "m, n = len(data), len(data[0])\n",
    "\n",
    "def inrange(i,j): return 0<=i<m and 0<=j<n\n",
    "def pmap(): print(\"\\n\".join(\"\".join(c for c in line) for line in data))\n",
    "\n",
    "di, dj= -1, 0\n",
    "pi, pj = next((i,j) for i in range(m) for j in range(n) if data[i][j] == \"^\")\n",
    "data[pi][pj] = \"X\"\n",
    "\n",
    "fast = {}\n",
    "\n",
    "for i in range(m):\n",
    "    lObs, lObs2 = -2, 0\n",
    "    for j in range(n):\n",
    "        if data[i][j] == \"#\": lObs = j\n",
    "        else: fast[(i,j,0,-1)] = (i,lObs+1,-1,0)\n",
    "        if data[i][n-j-1] == \"#\": lObs2 = n-j-1\n",
    "        else: fast[(i,n-j-1,0,1)] = (i,lObs2-1,1,0)\n",
    "\n",
    "for j in range(n):\n",
    "    lObs, lObs2 = -2, n+1\n",
    "    for i in range(m):\n",
    "        if data[i][j] == \"#\": lObs = i\n",
    "        else: fast[(i,j,-1,0)] = (lObs+1,j,0,1)\n",
    "        if data[m-i-1][j] == \"#\": lObs2 = m-i-1\n",
    "        else: fast[(m-i-1,j,1,0)] = (lObs2-1,j,0,-1)\n",
    "\n",
    "def solve(pi,pj,di,dj):\n",
    "    part1, part2 = 1, 0\n",
    "    cache = {(pi,pj,di,dj)}\n",
    "    while(inrange(pi+di,pj+dj)):\n",
    "        cell = data[pi+di][pj+dj]\n",
    "        if cell == \".\":\n",
    "            part2 += isloop(pi,pj,dj,-di,pi+di,pj+dj,cache)\n",
    "            pi, pj, part1 = pi+di, pj+dj, part1+1\n",
    "            data[pi][pj] = \"X\"\n",
    "        elif cell in {\"#\",\"0\"}: di,dj = dj,-di\n",
    "        else: pi, pj = pi+di, pj+dj\n",
    "        cache.add((pi,pj,di,dj))\n",
    "    print(\"part1:\",part1,\"part2:\", part2)\n",
    "\n",
    "def isloop(pi,pj,di,dj,oi,oj,cache):\n",
    "    cache2 = set()\n",
    "    while inrange(pi,pj):\n",
    "        npi,npj,ndi,ndj = fast[pi,pj,di,dj]\n",
    "        if ((oi == pi and di == 0 and (npj-oj)*(pj-oj)<0) or\n",
    "            (oj == pj and dj == 0 and (npi-oi)*(pi-oi)<0)):\n",
    "            pi,pj,di,dj = oi-di, oj-dj, ndi,ndj\n",
    "        else: pi,pj,di,dj = npi,npj,ndi,ndj\n",
    "\n",
    "        if (((pi,pj,di,dj) in cache2) or\n",
    "            ((pi,pj,di,dj) in cache)): return 1\n",
    "        cache2.add((pi,pj,di,dj))\n",
    "    return 0\n",
    "\n",
    "solve(pi,pj,di,dj)\n"
   ]
  },
  {
   "cell_type": "code",
   "execution_count": 91,
   "metadata": {},
   "outputs": [
    {
     "name": "stdout",
     "output_type": "stream",
     "text": [
      "part1: 4364915411363 part2 38322057216320\n"
     ]
    }
   ],
   "source": [
    "import aocd\n",
    "\n",
    "data = aocd.get_data(day=7, year=2024)\n",
    "data = [(int(a), list(map(int,b.split()))) \n",
    "        for line in data.splitlines() \n",
    "        for a,b in [line.split(\":\")] ]\n",
    "\n",
    "def len10(x):\n",
    "    t = 10\n",
    "    while True:\n",
    "        if x < t: return t\n",
    "        t *= 10\n",
    "\n",
    "def dfs(target,li,part2=False):\n",
    "    bt = [(target,len(li)-1)]\n",
    "    while len(bt):\n",
    "        tgt, idx = bt.pop()\n",
    "        v = li[idx]\n",
    "        if idx == 0: \n",
    "            if v == tgt: return 1\n",
    "        else:\n",
    "            if v<tgt: bt.append((tgt-v,idx-1))\n",
    "            if tgt%v == 0: bt.append((tgt//v,idx-1))\n",
    "            if part2:\n",
    "                lg = len10(v)\n",
    "                if v<tgt and tgt%lg == v: bt.append((tgt//lg,idx-1))\n",
    "    return 0\n",
    "\n",
    "print(\"part1:\",sum((dfs(v,li))*v for v,li in data),\"part2\",sum((dfs(v,li,2))*v for v,li in data))"
   ]
  },
  {
   "cell_type": "code",
   "execution_count": null,
   "metadata": {},
   "outputs": [
    {
     "data": {
      "text/plain": [
       "('part1:', 249, 'part2:', 905)"
      ]
     },
     "execution_count": 92,
     "metadata": {},
     "output_type": "execute_result"
    }
   ],
   "source": [
    "import aocd\n",
    "from collections import defaultdict\n",
    "from itertools import combinations\n",
    "\n",
    "data = aocd.get_data(day=8, year=2024).splitlines()\n",
    "m, n = len(data), len(data[0])\n",
    "ants_dict = defaultdict(set)\n",
    "\n",
    "def inrange(i,j): return 0<=i<m and 0<=j<n\n",
    "def pgcd(a, b): return a if b == 0 else pgcd(b, a % b)\n",
    "\n",
    "for i in range(m):\n",
    "    for j in range(n):\n",
    "        if data[i][j] != '.': ants_dict[data[i][j]].add((i,j))\n",
    "\n",
    "part1, part2 = set(), set()\n",
    "\n",
    "for ants in ants_dict.values():\n",
    "    for a,b in combinations(ants,2):\n",
    "        #part 1\n",
    "        di,dj = a[0]-b[0], a[1]-b[1]\n",
    "        p1,p2 = (a[0] + di, a[1] + dj), (b[0] - di, b[1] - dj)\n",
    "        if inrange(*p1): part1.add(p1)\n",
    "        if inrange(*p2): part1.add(p2)\n",
    "\n",
    "        #part 2\n",
    "        steps = pgcd(di,dj)\n",
    "        di,dj = di//steps, dj//steps\n",
    "        cur = a\n",
    "        while(inrange(*cur)):\n",
    "            part2.add(cur)\n",
    "            cur = cur[0]+di, cur[1]+dj\n",
    "        cur = a[0]-di, a[1]-dj\n",
    "        while(inrange(*cur)):\n",
    "            part2.add(cur)\n",
    "            cur = cur[0]-di, cur[1]-dj\n",
    "\n",
    "print(\"part1:\", len(part1), \"part2:\", len(part2))"
   ]
  },
  {
   "cell_type": "code",
   "execution_count": 178,
   "metadata": {},
   "outputs": [
    {
     "name": "stdout",
     "output_type": "stream",
     "text": [
      "34.8 ms ± 613 μs per loop (mean ± std. dev. of 7 runs, 10 loops each)\n"
     ]
    }
   ],
   "source": [
    "import aocd\n",
    "from heapq import heapify, heappop, heappush\n",
    "from collections import defaultdict\n",
    "\n",
    "input = aocd.get_data(day=9, year=2024)\n",
    "max_file = (len(input) - 1)//2\n",
    "\n",
    "def addfile(addr, id, length, su): \n",
    "    return addr+length, su + id*length*(2*addr+length-1)//2\n",
    "\n",
    "def part1():\n",
    "    data = [int(c) for c in input]\n",
    "    ret, idx, cur, cur_end = 0, 0, 0, max_file*2\n",
    "    while cur<=cur_end:\n",
    "        idx, ret = addfile(idx, cur//2, data[cur], ret)\n",
    "        if cur == cur_end: break\n",
    "        while data[cur+1]>0:\n",
    "            swap = min(data[cur+1], data[cur_end])\n",
    "            idx, ret = addfile(idx, cur_end//2, swap, ret)\n",
    "            data[cur_end] -= swap\n",
    "            data[cur+1] -= swap\n",
    "            if data[cur_end] == 0: cur_end -= 2\n",
    "        cur += 2\n",
    "    return ret\n",
    "\n",
    "def part2():\n",
    "    data = [int(c) for c in input]\n",
    "    moved = set()\n",
    "    gaps, freeslots = defaultdict(list), defaultdict(list)\n",
    "\n",
    "    for i in range(1,len(data),2):\n",
    "        if data[i]: heappush(freeslots[data[i]],i)\n",
    "\n",
    "    for i in range( max_file*2, -2, -2):\n",
    "        _,slotsize = min(((freeslots[size][0], size) for size in range(data[i],10) \n",
    "                          if freeslots[size] and freeslots[size][0]<i), default=(0,0))\n",
    "        if slotsize:\n",
    "            idx = heappop(freeslots[slotsize])\n",
    "            moved.add(i)\n",
    "            heappush(gaps[idx],-i)\n",
    "            if slotsize>data[i]: heappush(freeslots[slotsize-data[i]], idx)\n",
    "\n",
    "    idx, ret = 0, 0\n",
    "\n",
    "    for i in range(0,len(data),2):\n",
    "        if i not in moved: idx, ret = addfile(idx, i//2, data[i], ret)\n",
    "        else: idx += data[i]\n",
    "        if i+1 == len(data): break\n",
    "\n",
    "        nidx = idx + data[i+1]\n",
    "        while gaps[i+1]:\n",
    "            file = -heappop(gaps[i+1])\n",
    "            idx, ret = addfile(idx, file//2, data[file], ret)\n",
    "        idx = nidx\n",
    "    return ret \n",
    "\n",
    "%timeit (\"part1:\",part1(),\"part2:\",part2())    \n"
   ]
  },
  {
   "cell_type": "code",
   "execution_count": 209,
   "metadata": {},
   "outputs": [
    {
     "name": "stdout",
     "output_type": "stream",
     "text": [
      "2.59 ms ± 74.3 μs per loop (mean ± std. dev. of 7 runs, 100 loops each)\n"
     ]
    }
   ],
   "source": [
    "import aocd\n",
    "from collections import defaultdict\n",
    "\n",
    "def solve():\n",
    "    data = [list(map(int,line)) for line in aocd.get_data(day=10, year=2024).splitlines()]\n",
    "\n",
    "    m, n = len(data), len(data[0])\n",
    "    dirs = [(-1,0),(1,0),(0,1),(0,-1)]\n",
    "\n",
    "    it_list = [(i,j) for i in range(m) for j in range(n) if data[i][j] == 0]\n",
    "    it_part1 = defaultdict(set) | {pos:{pos} for pos in it_list}\n",
    "    it_part2 = defaultdict(int) | {pos:1 for pos in it_list}\n",
    "\n",
    "    for i in range(9):\n",
    "        next_it_list = set()\n",
    "        for i,j in it_list:\n",
    "            for di, dj in dirs:\n",
    "                ti,tj = i+di, j+dj\n",
    "                if  0<=ti<m and 0<=tj<n and (data[i][j])+1 == (data[ti][tj]):\n",
    "                    it_part1[(ti,tj)].update(it_part1[(i,j)])\n",
    "                    it_part2[(ti,tj)] += it_part2[(i,j)]\n",
    "                    next_it_list.add((ti,tj))\n",
    "        it_list = next_it_list\n",
    "\n",
    "    part1, part2 = 0, 0\n",
    "    for pos in it_list:\n",
    "        part1 += len(it_part1[pos])\n",
    "        part2 += it_part2[pos]\n",
    "\n",
    "    #print(\"part1:\",part1,\"part2:\",part2)\n",
    "\n",
    "%timeit solve()"
   ]
  },
  {
   "cell_type": "code",
   "execution_count": null,
   "metadata": {},
   "outputs": [
    {
     "name": "stdout",
     "output_type": "stream",
     "text": [
      "part1: 2087935 part2: 2471986897612374\n"
     ]
    }
   ],
   "source": [
    "from collections import Counter\n",
    "from functools import cache\n",
    "import time\n",
    "import aocd\n",
    "\n",
    "@cache\n",
    "def getstones(stone):\n",
    "    if stone == 0: return (1,)\n",
    "    n,rem = 0,stone\n",
    "    while(rem): rem, n = rem//10, n+1\n",
    "    if n%2 == 0: return (stone%(10**(n//2)),stone//(10**(n//2)))\n",
    "    return (stone*2024,)\n",
    "\n",
    "stones = Counter(map(int,aocd.get_data(day=10, year=2024).split()))\n",
    "\n",
    "START = time.time_ns()\n",
    "inter = START\n",
    "\n",
    "def blink(cnt):\n",
    "    newcnt = Counter()\n",
    "    for stone in cnt:\n",
    "        for nstone in getstones(stone):\n",
    "            newcnt[nstone] += cnt[stone]\n",
    "    return newcnt\n",
    "\n",
    "for i in range(75):\n",
    "    if i==25: part1 = sum(stones.values())\n",
    "    stones = blink(stones)\n",
    "\n",
    "print(\"part1:\", part1, \"part2:\", sum(stones.values()))"
   ]
  },
  {
   "cell_type": "code",
   "execution_count": 8,
   "metadata": {},
   "outputs": [
    {
     "name": "stdout",
     "output_type": "stream",
     "text": [
      "part1: 2087935 part2: 2471986897612374\n"
     ]
    }
   ],
   "source": [
    "from functools import cache\n",
    "import aocd\n",
    "\n",
    "stones = list(map(int,aocd.get_data(day=10, year=2024).split()))\n",
    "\n",
    "@cache\n",
    "def blink(stone, level):\n",
    "    if level == 0: return 1\n",
    "    if stone == 0: return blink(1, level-1)\n",
    "    if len(str(stone))%2 == 0:\n",
    "        log10 = 10**(len(str(stone))//2)\n",
    "        return blink(stone%log10, level-1) + blink(stone//log10, level-1)\n",
    "    return blink(stone*2024, level-1)\n",
    "\n",
    "\n",
    "print(\"part1:\", sum(blink(stone,25) for stone in stones),\"part2:\", sum(blink(stone,75) for stone in stones))"
   ]
  }
 ],
 "metadata": {
  "kernelspec": {
   "display_name": "base",
   "language": "python",
   "name": "python3"
  },
  "language_info": {
   "codemirror_mode": {
    "name": "ipython",
    "version": 3
   },
   "file_extension": ".py",
   "mimetype": "text/x-python",
   "name": "python",
   "nbconvert_exporter": "python",
   "pygments_lexer": "ipython3",
   "version": "3.12.7"
  }
 },
 "nbformat": 4,
 "nbformat_minor": 2
}
